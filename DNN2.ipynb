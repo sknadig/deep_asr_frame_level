{
 "cells": [
  {
   "cell_type": "code",
   "execution_count": null,
   "metadata": {
    "colab": {
     "autoexec": {
      "startup": false,
      "wait_interval": 0
     }
    },
    "colab_type": "code",
    "id": "FOfH1RnMqgif"
   },
   "outputs": [],
   "source": [
    "import tensorflow as tf\n",
    "import pandas as pd\n",
    "import numpy as np\n",
    "import random\n",
    "from sklearn.cross_validation import train_test_split"
   ]
  },
  {
   "cell_type": "code",
   "execution_count": null,
   "metadata": {
    "colab": {
     "autoexec": {
      "startup": false,
      "wait_interval": 0
     }
    },
    "colab_type": "code",
    "collapsed": true,
    "id": "ExKRf1_nqgio"
   },
   "outputs": [],
   "source": [
    "df = [pd.read_pickle(\"sampled_dataset2.pkl\")]"
   ]
  },
  {
   "cell_type": "code",
   "execution_count": null,
   "metadata": {
    "colab": {
     "autoexec": {
      "startup": false,
      "wait_interval": 0
     }
    },
    "colab_type": "code",
    "collapsed": true,
    "id": "iyZejWmcqgiu"
   },
   "outputs": [],
   "source": [
    "X_input = df[0][\"feature_vector\"]\n",
    "Y_input = df[0][\"label\"]"
   ]
  },
  {
   "cell_type": "code",
   "execution_count": null,
   "metadata": {
    "collapsed": true
   },
   "outputs": [],
   "source": [
    "X = np.array(df[0][\"feature_vector\"].tolist())[:100000]\n",
    "Y = df[0][\"label\"].tolist()[:100000]\n",
    "# Y = keras.utils.to_categorical(Y, num_classes=1944)\n",
    "del df"
   ]
  },
  {
   "cell_type": "code",
   "execution_count": null,
   "metadata": {
    "colab": {
     "autoexec": {
      "startup": false,
      "wait_interval": 0
     }
    },
    "colab_type": "code",
    "collapsed": true,
    "id": "XPeqPhduwa09"
   },
   "outputs": [],
   "source": [
    "X_train, X_test, y_train, y_test = train_test_split(X, Y, test_size=0.33, random_state=0)"
   ]
  },
  {
   "cell_type": "code",
   "execution_count": null,
   "metadata": {
    "colab": {
     "autoexec": {
      "startup": false,
      "wait_interval": 0
     }
    },
    "colab_type": "code",
    "collapsed": true,
    "id": "A_dXovrAqgjA"
   },
   "outputs": [],
   "source": [
    "# Parameters\n",
    "learning_rate = 0.001\n",
    "training_epochs = 25\n",
    "batch_size = 256\n",
    "display_step = 1"
   ]
  },
  {
   "cell_type": "code",
   "execution_count": null,
   "metadata": {
    "colab": {
     "autoexec": {
      "startup": false,
      "wait_interval": 0
     }
    },
    "colab_type": "code",
    "collapsed": true,
    "id": "jKu_5wWvqgjE"
   },
   "outputs": [],
   "source": [
    "# tf Graph input\n",
    "X = tf.placeholder(\"float\", [None, 440])\n",
    "Y = tf.placeholder(\"float\", [None, 1944])"
   ]
  },
  {
   "cell_type": "code",
   "execution_count": null,
   "metadata": {
    "colab": {
     "autoexec": {
      "startup": false,
      "wait_interval": 0
     }
    },
    "colab_type": "code",
    "collapsed": true,
    "id": "-g3LSXBa7s4J"
   },
   "outputs": [],
   "source": [
    "feature_columns = [tf.feature_column.numeric_column(\"x\", shape=[440])]"
   ]
  },
  {
   "cell_type": "code",
   "execution_count": null,
   "metadata": {
    "collapsed": true
   },
   "outputs": [],
   "source": [
    "validation_monitor = tf.contrib.learn.monitors.ValidationMonitor(\n",
    "    test_set.data,\n",
    "    test_set.target,\n",
    "    every_n_steps=50)"
   ]
  },
  {
   "cell_type": "code",
   "execution_count": null,
   "metadata": {
    "colab": {
     "autoexec": {
      "startup": false,
      "wait_interval": 0
     },
     "base_uri": "https://localhost:8080/",
     "height": 88,
     "output_extras": [
      {
       "item_id": 1
      }
     ]
    },
    "colab_type": "code",
    "executionInfo": {
     "elapsed": 1216,
     "status": "ok",
     "timestamp": 1516791964502,
     "user": {
      "displayName": "SNADIG CP",
      "photoUrl": "https://lh3.googleusercontent.com/a/default-user=s128",
      "userId": "111186448378047970223"
     },
     "user_tz": -330
    },
    "id": "5rN2bX2Z7awp",
    "outputId": "ba18f2d6-87ff-44de-c269-806f8b90898d"
   },
   "outputs": [],
   "source": [
    "classifier = tf.estimator.DNNClassifier(feature_columns=feature_columns,\n",
    "                                   hidden_units=[1024, 1024, 1024,1024,1024, 1024],\n",
    "                                   activation_fn=tf.nn.relu,\n",
    "                                   n_classes=1944,\n",
    "                                   optimizer=tf.train.AdamOptimizer(learning_rate=0.0001,\n",
    "                                   val))"
   ]
  },
  {
   "cell_type": "code",
   "execution_count": null,
   "metadata": {
    "colab": {
     "autoexec": {
      "startup": false,
      "wait_interval": 0
     }
    },
    "colab_type": "code",
    "collapsed": true,
    "id": "9-_3zpyD7mZ6"
   },
   "outputs": [],
   "source": [
    "# Define the training inputs\n",
    "train_input_fn = tf.estimator.inputs.numpy_input_fn(\n",
    "    x={\"x\": np.array(X_train)},\n",
    "    batch_size=batch_size,\n",
    "    y=np.array(y_train),\n",
    "    num_epochs=100,\n",
    "    queue_capacity=1000,\n",
    "    num_threads=4,\n",
    "    shuffle=True)"
   ]
  },
  {
   "cell_type": "code",
   "execution_count": null,
   "metadata": {
    "colab": {
     "autoexec": {
      "startup": false,
      "wait_interval": 0
     }
    },
    "colab_type": "code",
    "collapsed": true,
    "id": "Lj_l8ixP8Fp-"
   },
   "outputs": [],
   "source": [
    "test_input_fn = tf.estimator.inputs.numpy_input_fn(\n",
    "      x={\"x\": np.array(X_test)},\n",
    "      y=np.array(y_test),\n",
    "      num_epochs=1,\n",
    "      shuffle=False)"
   ]
  },
  {
   "cell_type": "code",
   "execution_count": null,
   "metadata": {
    "colab": {
     "autoexec": {
      "startup": false,
      "wait_interval": 0
     },
     "base_uri": "https://localhost:8080/",
     "height": 6885,
     "output_extras": [
      {
       "item_id": 55
      },
      {
       "item_id": 113
      },
      {
       "item_id": 173
      },
      {
       "item_id": 227
      },
      {
       "item_id": 283
      },
      {
       "item_id": 332
      },
      {
       "item_id": 357
      },
      {
       "item_id": 358
      }
     ]
    },
    "colab_type": "code",
    "executionInfo": {
     "elapsed": 211593,
     "status": "ok",
     "timestamp": 1516792178746,
     "user": {
      "displayName": "SNADIG CP",
      "photoUrl": "https://lh3.googleusercontent.com/a/default-user=s128",
      "userId": "111186448378047970223"
     },
     "user_tz": -330
    },
    "id": "x8WE86zD8NPj",
    "outputId": "f77483fe-ec08-44b3-d932-097c724ec1ee",
    "scrolled": false
   },
   "outputs": [],
   "source": [
    "classifier.train(input_fn=train_input_fn, steps=20000)"
   ]
  },
  {
   "cell_type": "code",
   "execution_count": null,
   "metadata": {
    "colab": {
     "autoexec": {
      "startup": false,
      "wait_interval": 0
     },
     "base_uri": "https://localhost:8080/",
     "height": 85,
     "output_extras": [
      {
       "item_id": 3
      }
     ]
    },
    "colab_type": "code",
    "executionInfo": {
     "elapsed": 14491,
     "status": "ok",
     "timestamp": 1516792193273,
     "user": {
      "displayName": "SNADIG CP",
      "photoUrl": "https://lh3.googleusercontent.com/a/default-user=s128",
      "userId": "111186448378047970223"
     },
     "user_tz": -330
    },
    "id": "CaclJfMD8QuC",
    "outputId": "89d287b1-4d36-43bb-ffda-ca26e3dec0c4"
   },
   "outputs": [],
   "source": [
    "accuracy_score = classifier.evaluate(input_fn=test_input_fn)[\"accuracy\"]"
   ]
  },
  {
   "cell_type": "code",
   "execution_count": null,
   "metadata": {
    "colab": {
     "autoexec": {
      "startup": false,
      "wait_interval": 0
     },
     "base_uri": "https://localhost:8080/",
     "height": 68,
     "output_extras": [
      {
       "item_id": 1
      }
     ]
    },
    "colab_type": "code",
    "executionInfo": {
     "elapsed": 1287,
     "status": "ok",
     "timestamp": 1516792194605,
     "user": {
      "displayName": "SNADIG CP",
      "photoUrl": "https://lh3.googleusercontent.com/a/default-user=s128",
      "userId": "111186448378047970223"
     },
     "user_tz": -330
    },
    "id": "OGl-dPTu8S2i",
    "outputId": "94753479-ec54-460a-f9aa-b9bf406fd033"
   },
   "outputs": [],
   "source": [
    "print(\"\\nTest Accuracy: {0:f}\\n\".format(accuracy_score))"
   ]
  }
 ],
 "metadata": {
  "accelerator": "GPU",
  "colab": {
   "collapsed_sections": [],
   "default_view": {},
   "name": "DNN2.ipynb",
   "provenance": [],
   "version": "0.3.2",
   "views": {}
  },
  "kernelspec": {
   "display_name": "Python 3",
   "language": "python",
   "name": "python3"
  },
  "language_info": {
   "codemirror_mode": {
    "name": "ipython",
    "version": 3
   },
   "file_extension": ".py",
   "mimetype": "text/x-python",
   "name": "python",
   "nbconvert_exporter": "python",
   "pygments_lexer": "ipython3",
   "version": "3.6.3"
  }
 },
 "nbformat": 4,
 "nbformat_minor": 1
}
