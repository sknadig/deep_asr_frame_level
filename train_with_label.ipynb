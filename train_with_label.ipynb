{
 "cells": [
  {
   "cell_type": "code",
   "execution_count": 1,
   "metadata": {
    "collapsed": true
   },
   "outputs": [],
   "source": [
    "import pandas as pd\n",
    "import re\n",
    "import numpy as np"
   ]
  },
  {
   "cell_type": "code",
   "execution_count": 2,
   "metadata": {
    "collapsed": true
   },
   "outputs": [],
   "source": [
    "timit_df = pd.DataFrame(columns=[\"speaker_id\", \"sentence_id\", \"frame_number\", \"use\", \"feature_vector\", \"label\"])"
   ]
  },
  {
   "cell_type": "code",
   "execution_count": 3,
   "metadata": {
    "collapsed": true
   },
   "outputs": [],
   "source": [
    "with open(\"all_train.ark\") as train_feats:\n",
    "    train_features = train_feats.readlines()"
   ]
  },
  {
   "cell_type": "code",
   "execution_count": 4,
   "metadata": {},
   "outputs": [],
   "source": [
    "with open(\"all_train.alignments\") as train_labels:\n",
    "    train_labels = train_labels.readlines()"
   ]
  },
  {
   "cell_type": "code",
   "execution_count": 5,
   "metadata": {
    "collapsed": true
   },
   "outputs": [],
   "source": [
    "frame_number = 1\n",
    "use = \"train\"\n",
    "dummy_np = []\n",
    "for line in train_features:\n",
    "    line = re.sub(\" \\[\", \"\", line.strip())\n",
    "    line = re.sub(\" \\]\", \"\", line.strip())\n",
    "    if(\"_\" in line):\n",
    "        speaker_id, sentence_id = line.split(\"_\")\n",
    "        frame_number = 1\n",
    "    else:\n",
    "        mfcc = [float(ele) for ele in line.split(\" \")]\n",
    "        dummy_np.append([speaker_id, sentence_id, frame_number, use, mfcc, \"None\"])\n",
    "        frame_number += 1"
   ]
  },
  {
   "cell_type": "code",
   "execution_count": 6,
   "metadata": {
    "collapsed": true
   },
   "outputs": [],
   "source": [
    "final_labels = []\n",
    "for line in train_labels:\n",
    "    labels_list = line.strip().split(\" \")\n",
    "    labels_list = [int(ele) for ele in labels_list[1:]]\n",
    "    final_labels.append(labels_list)"
   ]
  },
  {
   "cell_type": "code",
   "execution_count": 7,
   "metadata": {},
   "outputs": [],
   "source": [
    "labels_final = []\n",
    "for i in final_labels:\n",
    "    for j in i:\n",
    "        labels_final.append(int(j))"
   ]
  },
  {
   "cell_type": "code",
   "execution_count": 8,
   "metadata": {},
   "outputs": [
    {
     "data": {
      "text/plain": [
       "1124823"
      ]
     },
     "execution_count": 8,
     "metadata": {},
     "output_type": "execute_result"
    }
   ],
   "source": [
    "len(labels_final)"
   ]
  },
  {
   "cell_type": "code",
   "execution_count": null,
   "metadata": {
    "collapsed": true
   },
   "outputs": [],
   "source": [
    "speaker_ids = [ele[0] for ele in dummy_np]\n",
    "sentence_ids = [ele[1] for ele in dummy_np]\n",
    "frame_numbers = [ele[2] for ele in dummy_np]\n",
    "use = [ele[3] for ele in dummy_np]\n",
    "features = [ele[4] for ele in dummy_np]\n",
    "label = labels_final"
   ]
  },
  {
   "cell_type": "code",
   "execution_count": null,
   "metadata": {},
   "outputs": [],
   "source": [
    "frame_numbers.count(1)"
   ]
  },
  {
   "cell_type": "code",
   "execution_count": null,
   "metadata": {},
   "outputs": [],
   "source": [
    "len(label)"
   ]
  },
  {
   "cell_type": "code",
   "execution_count": null,
   "metadata": {
    "collapsed": true
   },
   "outputs": [],
   "source": [
    "timit_df[\"speaker_id\"] = speaker_ids\n",
    "timit_df[\"sentence_id\"] = sentence_ids \n",
    "timit_df[\"frame_number\"] = frame_numbers\n",
    "timit_df[\"use\"] = use \n",
    "timit_df[\"feature_vector\"] = features\n",
    "timit_df[\"label\"] = label"
   ]
  },
  {
   "cell_type": "code",
   "execution_count": null,
   "metadata": {},
   "outputs": [],
   "source": [
    "timit_df.loc[0]"
   ]
  },
  {
   "cell_type": "code",
   "execution_count": null,
   "metadata": {
    "collapsed": true
   },
   "outputs": [],
   "source": [
    "timit_df.to_pickle(\"test_with_labels.pkl\")"
   ]
  },
  {
   "cell_type": "code",
   "execution_count": null,
   "metadata": {
    "collapsed": true
   },
   "outputs": [],
   "source": []
  }
 ],
 "metadata": {
  "kernelspec": {
   "display_name": "Python 3",
   "language": "python",
   "name": "python3"
  },
  "language_info": {
   "codemirror_mode": {
    "name": "ipython",
    "version": 3
   },
   "file_extension": ".py",
   "mimetype": "text/x-python",
   "name": "python",
   "nbconvert_exporter": "python",
   "pygments_lexer": "ipython3",
   "version": "3.6.3"
  }
 },
 "nbformat": 4,
 "nbformat_minor": 2
}
