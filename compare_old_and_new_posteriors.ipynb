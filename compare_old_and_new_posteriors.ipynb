{
 "cells": [
  {
   "cell_type": "code",
   "execution_count": 1,
   "metadata": {
    "collapsed": true
   },
   "outputs": [],
   "source": [
    "import pandas as pd\n",
    "import numpy as np\n",
    "import re\n",
    "from sklearn.metrics import \n",
    "accuracy_score"
   ]
  },
  {
   "cell_type": "code",
   "execution_count": 2,
   "metadata": {
    "collapsed": true
   },
   "outputs": [],
   "source": [
    "with open(\"all_test.posteriors_new3\") as kaldi_posteriors_file:\n",
    "    kaldi_posteriors3 = kaldi_posteriors_file.readlines()"
   ]
  },
  {
   "cell_type": "code",
   "execution_count": 3,
   "metadata": {
    "collapsed": true
   },
   "outputs": [],
   "source": [
    "with open(\"all_test.posteriors\") as kaldi_posteriors_file:\n",
    "    kaldi_posteriors2 = kaldi_posteriors_file.readlines()"
   ]
  },
  {
   "cell_type": "code",
   "execution_count": 4,
   "metadata": {
    "collapsed": true
   },
   "outputs": [],
   "source": [
    "posteriors = pd.DataFrame(columns=[\"speaker_id\", \"sentence_id\", \"frame_number\", \"use\", \"kaldi_posteriors\", \"label\", \"mapped_label\"])"
   ]
  },
  {
   "cell_type": "code",
   "execution_count": 5,
   "metadata": {
    "collapsed": true
   },
   "outputs": [],
   "source": [
    "frame_number = 1\n",
    "use = \"test\"\n",
    "dummy_np2 = []\n",
    "for line in kaldi_posteriors2:\n",
    "    line = re.sub(\" \\[\", \"\", line.strip())\n",
    "    line = re.sub(\" \\]\", \"\", line.strip())\n",
    "    if(\"_\" in line):\n",
    "        speaker_id, sentence_id = line.split(\"_\")\n",
    "        frame_number = 1\n",
    "    else:\n",
    "        posteriors = [float(ele) for ele in line.split(\" \")]\n",
    "        dummy_np2.append([speaker_id, sentence_id, frame_number, use, posteriors, \"None\"])\n",
    "        frame_number += 1"
   ]
  },
  {
   "cell_type": "code",
   "execution_count": 6,
   "metadata": {
    "collapsed": true
   },
   "outputs": [],
   "source": [
    "frame_number = 1\n",
    "use = \"test\"\n",
    "dummy_np3 = []\n",
    "for line in kaldi_posteriors3:\n",
    "    line = re.sub(\" \\[\", \"\", line.strip())\n",
    "    line = re.sub(\" \\]\", \"\", line.strip())\n",
    "    if(\"_\" in line):\n",
    "        speaker_id, sentence_id = line.split(\"_\")\n",
    "        frame_number = 1\n",
    "    else:\n",
    "        posteriors = [float(ele) for ele in line.split(\" \")]\n",
    "        dummy_np3.append([speaker_id, sentence_id, frame_number, use, posteriors, \"None\"])\n",
    "        frame_number += 1"
   ]
  },
  {
   "cell_type": "code",
   "execution_count": null,
   "metadata": {
    "collapsed": true
   },
   "outputs": [],
   "source": []
  }
 ],
 "metadata": {
  "kernelspec": {
   "display_name": "Python 3",
   "language": "python",
   "name": "python3"
  },
  "language_info": {
   "codemirror_mode": {
    "name": "ipython",
    "version": 3
   },
   "file_extension": ".py",
   "mimetype": "text/x-python",
   "name": "python",
   "nbconvert_exporter": "python",
   "pygments_lexer": "ipython3",
   "version": "3.6.3"
  }
 },
 "nbformat": 4,
 "nbformat_minor": 2
}
