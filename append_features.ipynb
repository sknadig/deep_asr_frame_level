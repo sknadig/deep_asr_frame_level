{
 "cells": [
  {
   "cell_type": "code",
   "execution_count": 47,
   "metadata": {
    "collapsed": true
   },
   "outputs": [],
   "source": [
    "import pandas as pd\n",
    "import numpy as np"
   ]
  },
  {
   "cell_type": "code",
   "execution_count": 48,
   "metadata": {
    "collapsed": true
   },
   "outputs": [],
   "source": [
    "timit_data = pd.read_pickle(\"test_with_mapped_labels.pkl\")"
   ]
  },
  {
   "cell_type": "code",
   "execution_count": 49,
   "metadata": {
    "collapsed": true
   },
   "outputs": [],
   "source": [
    "feats = timit_data[\"feature_vector\"]"
   ]
  },
  {
   "cell_type": "code",
   "execution_count": 50,
   "metadata": {},
   "outputs": [],
   "source": [
    "def append_features(Xtrain):\n",
    "    new_Xtrain = []\n",
    "    zero_array = np.zeros((1,40))[0]\n",
    "    for i in range(len(Xtrain)):\n",
    "        if(i==0):\n",
    "            new_Xtrain.append(np.hstack((zero_array,zero_array,zero_array,zero_array,zero_array,Xtrain[i],Xtrain[i+1],Xtrain[i+2],Xtrain[i+3],Xtrain[i+4],Xtrain[i+5])))\n",
    "        elif(i==1):\n",
    "            new_Xtrain.append(np.hstack((zero_array,zero_array,zero_array,zero_array,Xtrain[i-1],Xtrain[i],Xtrain[i+1],Xtrain[i+2],Xtrain[i+3],Xtrain[i+4],Xtrain[i+5])))\n",
    "        elif(i==2):\n",
    "            new_Xtrain.append(np.hstack((zero_array,zero_array,zero_array,Xtrain[i-2],Xtrain[i-1],Xtrain[i],Xtrain[i+1],Xtrain[i+2],Xtrain[i+3],Xtrain[i+4],Xtrain[i+5])))\n",
    "        elif(i==3):\n",
    "            new_Xtrain.append(np.hstack((zero_array,zero_array,Xtrain[i-3],Xtrain[i-2],Xtrain[i-1],Xtrain[i],Xtrain[i+1],Xtrain[i+2],Xtrain[i+3],Xtrain[i+4],Xtrain[i+5])))\n",
    "        elif(i==4):\n",
    "            new_Xtrain.append(np.hstack((zero_array,Xtrain[i-4],Xtrain[i-3],Xtrain[i-2],Xtrain[i-1],Xtrain[i],Xtrain[i+1],Xtrain[i+2],Xtrain[i+3],Xtrain[i+4],Xtrain[i+5])))\n",
    "\n",
    "        elif(i==len(Xtrain)-5):\n",
    "            new_Xtrain.append(np.hstack((Xtrain[i-5],Xtrain[i-4],Xtrain[i-3],Xtrain[i-2],Xtrain[i-1],Xtrain[i],Xtrain[i+1],Xtrain[i+2],Xtrain[i+3],Xtrain[i+4],zero_array)))\n",
    "        elif(i==len(Xtrain)-4):\n",
    "            new_Xtrain.append(np.hstack((Xtrain[i-5],Xtrain[i-4],Xtrain[i-3],Xtrain[i-2],Xtrain[i-1],Xtrain[i],Xtrain[i+1],Xtrain[i+2],Xtrain[i+3],zero_array,zero_array)))\n",
    "        elif(i==len(Xtrain)-3):\n",
    "            new_Xtrain.append(np.hstack((Xtrain[i-5],Xtrain[i-4],Xtrain[i-3],Xtrain[i-2],Xtrain[i-1],Xtrain[i],Xtrain[i+1],Xtrain[i+2],zero_array,zero_array,zero_array)))\n",
    "        elif(i==len(Xtrain)-2):\n",
    "            new_Xtrain.append(np.hstack((Xtrain[i-5],Xtrain[i-4],Xtrain[i-3],Xtrain[i-2],Xtrain[i-1],Xtrain[i],Xtrain[i+1],zero_array,zero_array,zero_array,zero_array)))\n",
    "        elif(i==len(Xtrain)-1):\n",
    "            new_Xtrain.append(np.hstack((Xtrain[i-5],Xtrain[i-4],Xtrain[i-3],Xtrain[i-2],Xtrain[i-1],Xtrain[i],zero_array,zero_array,zero_array,zero_array,zero_array)))\n",
    "\n",
    "            \n",
    "        else:\n",
    "            new_Xtrain.append(np.hstack((Xtrain[i-5],Xtrain[i-4],Xtrain[i-3],Xtrain[i-2],Xtrain[i-1],Xtrain[i],Xtrain[i+1],Xtrain[i+2],Xtrain[i+3],Xtrain[i+4],Xtrain[i+5])))\n",
    "        if(i%100000 == 0):\n",
    "            print(i)\n",
    "    return(new_Xtrain)"
   ]
  },
  {
   "cell_type": "code",
   "execution_count": 51,
   "metadata": {
    "collapsed": true
   },
   "outputs": [],
   "source": [
    "features = feats.tolist()"
   ]
  },
  {
   "cell_type": "code",
   "execution_count": 52,
   "metadata": {},
   "outputs": [
    {
     "name": "stdout",
     "output_type": "stream",
     "text": [
      "0\n"
     ]
    }
   ],
   "source": [
    "new_feats = append_features(features)"
   ]
  },
  {
   "cell_type": "code",
   "execution_count": 53,
   "metadata": {},
   "outputs": [
    {
     "data": {
      "text/plain": [
       "57919"
      ]
     },
     "execution_count": 53,
     "metadata": {},
     "output_type": "execute_result"
    }
   ],
   "source": [
    "len(new_feats)"
   ]
  },
  {
   "cell_type": "code",
   "execution_count": 54,
   "metadata": {},
   "outputs": [
    {
     "data": {
      "text/plain": [
       "57919"
      ]
     },
     "execution_count": 54,
     "metadata": {},
     "output_type": "execute_result"
    }
   ],
   "source": [
    "len(features)"
   ]
  },
  {
   "cell_type": "code",
   "execution_count": 55,
   "metadata": {
    "collapsed": true
   },
   "outputs": [],
   "source": [
    "timit_data[\"features_440\"] = new_feats"
   ]
  },
  {
   "cell_type": "code",
   "execution_count": 56,
   "metadata": {
    "collapsed": true
   },
   "outputs": [],
   "source": [
    "timit_data.to_pickle(\"test_with_mapped_labels_440feats.pkl\")"
   ]
  },
  {
   "cell_type": "code",
   "execution_count": null,
   "metadata": {
    "collapsed": true
   },
   "outputs": [],
   "source": []
  }
 ],
 "metadata": {
  "kernelspec": {
   "display_name": "Python 3",
   "language": "python",
   "name": "python3"
  },
  "language_info": {
   "codemirror_mode": {
    "name": "ipython",
    "version": 3
   },
   "file_extension": ".py",
   "mimetype": "text/x-python",
   "name": "python",
   "nbconvert_exporter": "python",
   "pygments_lexer": "ipython3",
   "version": "3.6.3"
  }
 },
 "nbformat": 4,
 "nbformat_minor": 2
}
