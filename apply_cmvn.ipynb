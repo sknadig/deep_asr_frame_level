{
 "cells": [
  {
   "cell_type": "code",
   "execution_count": 1,
   "metadata": {
    "collapsed": true
   },
   "outputs": [],
   "source": [
    "import pandas as pd\n",
    "import numpy as np\n",
    "import re"
   ]
  },
  {
   "cell_type": "code",
   "execution_count": null,
   "metadata": {
    "collapsed": true
   },
   "outputs": [],
   "source": [
    "data=pd.read_pickle(\"kaldi_spliced_440_post.pkl\")\n",
    "X_input = data[\"feature_vector\"].tolist()\n",
    "Y_input = data[\"label\"].tolist()"
   ]
  },
  {
   "cell_type": "code",
   "execution_count": null,
   "metadata": {
    "collapsed": true
   },
   "outputs": [],
   "source": [
    "X1 = np.asarray([np.asarray(ele, np.float32) for ele in X_input])\n",
    "Y1 = np.asarray([np.asarray(ele, np.int32) for ele in Y_input])"
   ]
  },
  {
   "cell_type": "code",
   "execution_count": null,
   "metadata": {
    "collapsed": true
   },
   "outputs": [],
   "source": [
    "from sklearn.preprocessing import normalize"
   ]
  },
  {
   "cell_type": "code",
   "execution_count": null,
   "metadata": {
    "collapsed": true
   },
   "outputs": [],
   "source": [
    "X1 = normalize(X1, norm=\"max\", axis=1, copy=True)"
   ]
  },
  {
   "cell_type": "code",
   "execution_count": null,
   "metadata": {
    "collapsed": true
   },
   "outputs": [],
   "source": [
    "def get_cmvn_stats():\n",
    "    with open(\"./feats/final.feature_transform\") as tr_file:\n",
    "        tr_file_contents = tr_file.readlines()\n",
    "    shifts = tr_file_contents[5].strip()\n",
    "    rescales = tr_file_contents[8].strip()\n",
    "    shifts = re.sub(\"\\]\", \"\" , shifts.split(\"[\")[1].strip()).strip()\n",
    "    rescales = re.sub(\"\\]\", \"\" , rescales.split(\"[\")[1].strip()).strip()\n",
    "    shifts = [float(ele) for ele in shifts.split(\" \")]\n",
    "    rescales = [float(ele) for ele in rescales.split(\" \")]\n",
    "    return shifts, rescales"
   ]
  },
  {
   "cell_type": "code",
   "execution_count": null,
   "metadata": {
    "collapsed": true
   },
   "outputs": [],
   "source": [
    "shifts, rescales = get_cmvn_stats()"
   ]
  },
  {
   "cell_type": "code",
   "execution_count": null,
   "metadata": {
    "collapsed": true
   },
   "outputs": [],
   "source": [
    "X = [(ele+shifts)*rescales for ele in X1]"
   ]
  },
  {
   "cell_type": "code",
   "execution_count": null,
   "metadata": {
    "collapsed": true
   },
   "outputs": [],
   "source": [
    "new_df = pd.DataFrame()\n",
    "new_df[\"feature_vector\"] = X\n",
    "new_df[\"label\"] = Y1"
   ]
  },
  {
   "cell_type": "code",
   "execution_count": null,
   "metadata": {
    "collapsed": true
   },
   "outputs": [],
   "source": [
    "new_df.to_pickle(\"kaldi_spliced_440_cmvn_post.pkl\")"
   ]
  }
 ],
 "metadata": {
  "kernelspec": {
   "display_name": "Python 3",
   "language": "python",
   "name": "python3"
  },
  "language_info": {
   "codemirror_mode": {
    "name": "ipython",
    "version": 3
   },
   "file_extension": ".py",
   "mimetype": "text/x-python",
   "name": "python",
   "nbconvert_exporter": "python",
   "pygments_lexer": "ipython3",
   "version": "3.6.3"
  }
 },
 "nbformat": 4,
 "nbformat_minor": 2
}
