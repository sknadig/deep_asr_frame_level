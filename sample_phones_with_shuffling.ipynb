{
  "nbformat": 4,
  "nbformat_minor": 0,
  "metadata": {
    "colab": {
      "name": "sample_phones_with_shuffling.ipynb",
      "version": "0.3.2",
      "views": {},
      "default_view": {},
      "provenance": [],
      "collapsed_sections": []
    },
    "kernelspec": {
      "display_name": "Python 3",
      "language": "python",
      "name": "python3"
    },
    "accelerator": "GPU"
  },
  "cells": [
    {
      "metadata": {
        "id": "FOfH1RnMqgif",
        "colab_type": "code",
        "colab": {
          "autoexec": {
            "startup": false,
            "wait_interval": 0
          },
          "output_extras": [
            {
              "item_id": 1
            }
          ],
          "base_uri": "https://localhost:8080/",
          "height": 71
        },
        "outputId": "0fae8347-3603-4f98-a1d9-b1a327a83ac8",
        "executionInfo": {
          "status": "ok",
          "timestamp": 1516732910171,
          "user_tz": -330,
          "elapsed": 7081,
          "user": {
            "displayName": "SNADIG CP",
            "photoUrl": "https://lh3.googleusercontent.com/a/default-user=s128",
            "userId": "111186448378047970223"
          }
        }
      },
      "cell_type": "code",
      "source": [
        "import tensorflow as tf\n",
        "import pandas as pd\n",
        "import numpy as np\n",
        "import random\n",
        "from sklearn.cross_validation import train_test_split"
      ],
      "execution_count": 1,
      "outputs": [
        {
          "output_type": "stream",
          "text": [
            "/usr/local/lib/python3.6/dist-packages/sklearn/cross_validation.py:41: DeprecationWarning: This module was deprecated in version 0.18 in favor of the model_selection module into which all the refactored classes and functions are moved. Also note that the interface of the new CV iterators are different from that of this module. This module will be removed in 0.20.\n",
            "  \"This module will be removed in 0.20.\", DeprecationWarning)\n"
          ],
          "name": "stderr"
        }
      ]
    },
    {
      "metadata": {
        "id": "Zt6VEwYfzYbB",
        "colab_type": "code",
        "colab": {
          "autoexec": {
            "startup": false,
            "wait_interval": 0
          }
        }
      },
      "cell_type": "code",
      "source": [
        "# Install the PyDrive wrapper & import libraries.\n",
        "# This only needs to be done once per notebook.\n",
        "!pip install -U -q PyDrive\n",
        "from pydrive.auth import GoogleAuth\n",
        "from pydrive.drive import GoogleDrive\n",
        "from google.colab import auth\n",
        "from oauth2client.client import GoogleCredentials\n",
        "\n",
        "# Authenticate and create the PyDrive client.\n",
        "# This only needs to be done once per notebook.\n",
        "auth.authenticate_user()\n",
        "gauth = GoogleAuth()\n",
        "gauth.credentials = GoogleCredentials.get_application_default()\n",
        "drive = GoogleDrive(gauth)"
      ],
      "execution_count": 0,
      "outputs": []
    },
    {
      "metadata": {
        "id": "zmZ2iOtTzgWU",
        "colab_type": "code",
        "colab": {
          "autoexec": {
            "startup": false,
            "wait_interval": 0
          },
          "output_extras": [
            {
              "item_id": 1
            }
          ],
          "base_uri": "https://localhost:8080/",
          "height": 238
        },
        "outputId": "5407a055-b652-4a5f-afd1-d87b214bf8ab",
        "executionInfo": {
          "status": "ok",
          "timestamp": 1516732935693,
          "user_tz": -330,
          "elapsed": 789,
          "user": {
            "displayName": "SNADIG CP",
            "photoUrl": "https://lh3.googleusercontent.com/a/default-user=s128",
            "userId": "111186448378047970223"
          }
        }
      },
      "cell_type": "code",
      "source": [
        "# List .txt files in the root.\n",
        "#\n",
        "# Search query reference:\n",
        "# https://developers.google.com/drive/v2/web/search-parameters\n",
        "listed = drive.ListFile().GetList()\n",
        "for file in listed:\n",
        "  print('title {}, id {}'.format(file['title'], file['id']))"
      ],
      "execution_count": 3,
      "outputs": [
        {
          "output_type": "stream",
          "text": [
            "title sample_phones_with_shuffling.ipynb, id 1DgTzyyf5a7cowx2gNLwylqqoP-l968vh\n",
            "title sample_phones_with_shuffling.ipynb, id 1_HhSJSMCsTEqpI5BZFAxFyF7k5DxEgTp\n",
            "title RNN.ipynb, id 19r_dd89G14_x_NqYxACon_LVkg7R1qd0\n",
            "title DNN.ipynb, id 1PouCenS2tKofZWjrOo7ke-eQ46p32iyI\n",
            "title Untitled0.ipynb, id 1GO7GAV5U021FUw79Z6gZ8rS0N4Vzz7Im\n",
            "title Untitled0.ipynb, id 1c2XTxnRJRhwpfjGVYynbw7rTzl3sT4gs\n",
            "title Untitled1.ipynb, id 19L2jhVfnalXOvlgFI7TQj4nk0hdc8esZ\n",
            "title mfcc_alignments.pkl, id 14X-vptKNFo9t-ltnNuXZp_UFHPyaAeA2\n",
            "title mfcc_alignments.pkl, id 10FsU7gZvkTHyUuhQwUAwsLmEMkIiD4xL\n",
            "title Untitled folder, id 1N3xA66rADBEFIiNYupzDFYLwKkwleaGV\n",
            "title sample_phones_with_shuffling.ipynb, id 1tPhS-QoSx-Y9_TwTAUYX3nzzsJqs1vE5\n",
            "title Colab Notebooks, id 1tebh5kjU9pWe5wmoCGi2oJqtt4VniNuW\n",
            "title Getting started, id 0B-COj-emT6bUc3RhcnRlcl9maWxl\n"
          ],
          "name": "stdout"
        }
      ]
    },
    {
      "metadata": {
        "id": "OnZG3JvtzgiO",
        "colab_type": "code",
        "colab": {
          "autoexec": {
            "startup": false,
            "wait_interval": 0
          },
          "output_extras": [
            {
              "item_id": 1
            }
          ],
          "base_uri": "https://localhost:8080/",
          "height": 170
        },
        "outputId": "12e43973-6ce6-4108-fd46-3f0f3c263642",
        "executionInfo": {
          "status": "ok",
          "timestamp": 1516732976159,
          "user_tz": -330,
          "elapsed": 4381,
          "user": {
            "displayName": "SNADIG CP",
            "photoUrl": "https://lh3.googleusercontent.com/a/default-user=s128",
            "userId": "111186448378047970223"
          }
        }
      },
      "cell_type": "code",
      "source": [
        "selection = \"mfcc_alignments.pkl\"\n",
        "for file in listed:\n",
        "  if file['title'] == selection:\n",
        "    file.GetContentFile(selection)\n",
        "import os\n",
        "os.listdir(\".\")"
      ],
      "execution_count": 6,
      "outputs": [
        {
          "output_type": "execute_result",
          "data": {
            "text/plain": [
              "['datalab',\n",
              " '.ipython',\n",
              " '.config',\n",
              " 'mfcc_alignments.pkl',\n",
              " '.forever',\n",
              " '.rnd',\n",
              " '.cache',\n",
              " '.local',\n",
              " '.keras']"
            ]
          },
          "metadata": {
            "tags": []
          },
          "execution_count": 6
        }
      ]
    },
    {
      "metadata": {
        "id": "ExKRf1_nqgio",
        "colab_type": "code",
        "colab": {
          "autoexec": {
            "startup": false,
            "wait_interval": 0
          }
        }
      },
      "cell_type": "code",
      "source": [
        "data=pd.read_pickle(\"mfcc_alignments.pkl\")\n",
        "labels_list = data[\"label\"]\n",
        "j=0\n",
        "for i in range(1,288,6):\n",
        "    labels_list = labels_list.replace(to_replace=np.arange(i,i+6), value=j)\n",
        "    j+=1\n",
        "data[\"label\"] = labels_list"
      ],
      "execution_count": 0,
      "outputs": []
    },
    {
      "metadata": {
        "id": "iyZejWmcqgiu",
        "colab_type": "code",
        "colab": {
          "autoexec": {
            "startup": false,
            "wait_interval": 0
          }
        }
      },
      "cell_type": "code",
      "source": [
        "X_input = data[\"mfcc\"]\n",
        "Y_input = data[\"label\"]"
      ],
      "execution_count": 0,
      "outputs": []
    },
    {
      "metadata": {
        "id": "D4eibtkTqgiz",
        "colab_type": "code",
        "colab": {
          "autoexec": {
            "startup": false,
            "wait_interval": 0
          }
        }
      },
      "cell_type": "code",
      "source": [
        "X1 = X_input.tolist()\n",
        "Y1 = pd.get_dummies(Y_input.tolist()).values"
      ],
      "execution_count": 0,
      "outputs": []
    },
    {
      "metadata": {
        "id": "p4EMEPZrqgi3",
        "colab_type": "code",
        "colab": {
          "autoexec": {
            "startup": false,
            "wait_interval": 0
          }
        }
      },
      "cell_type": "code",
      "source": [
        "X1 = np.asarray([np.asarray(ele, np.float32) for ele in X1])\n",
        "Y1 = np.asarray([np.asarray(ele, np.uint16) for ele in Y1])"
      ],
      "execution_count": 0,
      "outputs": []
    },
    {
      "metadata": {
        "id": "nUYQPShbqgi7",
        "colab_type": "code",
        "colab": {
          "autoexec": {
            "startup": false,
            "wait_interval": 0
          }
        }
      },
      "cell_type": "code",
      "source": [
        "X1 = X1 / X1.max(axis=0)"
      ],
      "execution_count": 0,
      "outputs": []
    },
    {
      "metadata": {
        "id": "V-45xACE1Vtj",
        "colab_type": "code",
        "colab": {
          "autoexec": {
            "startup": false,
            "wait_interval": 0
          }
        }
      },
      "cell_type": "code",
      "source": [
        "select_indices = random.sample(range(0,len(X1)), len(X1))\n",
        "X1 = X1[select_indices]\n",
        "Y1 = Y1[select_indices]"
      ],
      "execution_count": 0,
      "outputs": []
    },
    {
      "metadata": {
        "id": "XPeqPhduwa09",
        "colab_type": "code",
        "colab": {
          "autoexec": {
            "startup": false,
            "wait_interval": 0
          }
        }
      },
      "cell_type": "code",
      "source": [
        "X_train, X_test, y_train, y_test = train_test_split(X1, Y1, test_size=0.33, random_state=0)"
      ],
      "execution_count": 0,
      "outputs": []
    },
    {
      "metadata": {
        "id": "A_dXovrAqgjA",
        "colab_type": "code",
        "colab": {
          "autoexec": {
            "startup": false,
            "wait_interval": 0
          }
        }
      },
      "cell_type": "code",
      "source": [
        "# Parameters\n",
        "learning_rate = 0.001\n",
        "training_epochs = 25\n",
        "batch_size = 1000\n",
        "display_step = 1"
      ],
      "execution_count": 0,
      "outputs": []
    },
    {
      "metadata": {
        "id": "yLATL2nOqgjC",
        "colab_type": "code",
        "colab": {
          "autoexec": {
            "startup": false,
            "wait_interval": 0
          }
        }
      },
      "cell_type": "code",
      "source": [
        "# Network Parameters\n",
        "n_hidden_1 = 1024 # 1st layer number of neurons\n",
        "n_hidden_2 = 1024 # 2nd layer number of neurons\n",
        "n_hidden_3 = 1024 # 3rd layer number of neurons\n",
        "n_hidden_4 = 1024 # 4th layer number of neurons\n",
        "n_hidden_5 = 1024 # 5th layer number of neurons\n",
        "n_hidden_6 = 1024 # 6th layer number of neurons\n",
        "\n",
        "n_input = 13 # MFCC data input (img shape: n_samples*13)\n",
        "n_classes = 48 # Phone total classes (288 senones)"
      ],
      "execution_count": 0,
      "outputs": []
    },
    {
      "metadata": {
        "id": "jKu_5wWvqgjE",
        "colab_type": "code",
        "colab": {
          "autoexec": {
            "startup": false,
            "wait_interval": 0
          }
        }
      },
      "cell_type": "code",
      "source": [
        "# tf Graph input\n",
        "X = tf.placeholder(\"float\", [None, n_input])\n",
        "Y = tf.placeholder(\"float\", [None, n_classes])"
      ],
      "execution_count": 0,
      "outputs": []
    },
    {
      "metadata": {
        "id": "hM7alhbJqgjI",
        "colab_type": "code",
        "colab": {
          "autoexec": {
            "startup": false,
            "wait_interval": 0
          }
        }
      },
      "cell_type": "code",
      "source": [
        "# Store layers weight & bias\n",
        "weights = {\n",
        "    'h1': tf.Variable(tf.random_normal([n_input, n_hidden_1])),\n",
        "    'h2': tf.Variable(tf.random_normal([n_hidden_1, n_hidden_2])),\n",
        "    'h3': tf.Variable(tf.random_normal([n_hidden_2, n_hidden_3])),\n",
        "    'h4': tf.Variable(tf.random_normal([n_hidden_3, n_hidden_4])),\n",
        "    'h5': tf.Variable(tf.random_normal([n_hidden_4, n_hidden_5])),\n",
        "    'h6': tf.Variable(tf.random_normal([n_hidden_5, n_hidden_6])),\n",
        "    'out': tf.Variable(tf.random_normal([n_hidden_6, n_classes]))\n",
        "}\n",
        "biases = {\n",
        "    'b1': tf.Variable(tf.random_normal([n_hidden_1])),\n",
        "    'b2': tf.Variable(tf.random_normal([n_hidden_2])),\n",
        "    'b3': tf.Variable(tf.random_normal([n_hidden_3])),\n",
        "    'b4': tf.Variable(tf.random_normal([n_hidden_4])),\n",
        "    'b5': tf.Variable(tf.random_normal([n_hidden_5])),\n",
        "    'b6': tf.Variable(tf.random_normal([n_hidden_6])),\n",
        "    'out': tf.Variable(tf.random_normal([n_classes]))\n",
        "}"
      ],
      "execution_count": 0,
      "outputs": []
    },
    {
      "metadata": {
        "id": "onG1JliyqgjK",
        "colab_type": "code",
        "colab": {
          "autoexec": {
            "startup": false,
            "wait_interval": 0
          }
        }
      },
      "cell_type": "code",
      "source": [
        "# Create model\n",
        "def multilayer_perceptron(x):\n",
        "    # Hidden fully connected layer with 1024 neurons\n",
        "    layer_1 = tf.nn.relu(tf.add(tf.matmul(x, weights['h1']), biases['b1']))\n",
        "    \n",
        "    # Hidden fully connected layer with 1024 neurons\n",
        "    layer_2 = tf.nn.relu(tf.add(tf.matmul(layer_1, weights['h2']), biases['b2']))\n",
        "    \n",
        "    # Hidden fully connected layer with 1024 neurons\n",
        "    layer_3 = tf.nn.relu(tf.add(tf.matmul(layer_2, weights['h3']), biases['b3']))\n",
        "    \n",
        "    # Hidden fully connected layer with 1024 neurons\n",
        "    layer_4 = tf.nn.relu(tf.add(tf.matmul(layer_3, weights['h4']), biases['b4']))\n",
        "    \n",
        "    # Hidden fully connected layer with 1024 neurons\n",
        "    layer_5 = tf.nn.relu(tf.add(tf.matmul(layer_4, weights['h5']), biases['b5']))\n",
        "    \n",
        "    # Hidden fully connected layer with 1024 neurons\n",
        "    layer_6 = tf.nn.relu(tf.add(tf.matmul(layer_5, weights['h6']), biases['b6']))\n",
        "    \n",
        "    # Output fully connected layer with a neuron for each class\n",
        "    out_layer = tf.matmul(layer_6, weights['out']) + biases['out']\n",
        "    \n",
        "    return out_layer"
      ],
      "execution_count": 0,
      "outputs": []
    },
    {
      "metadata": {
        "id": "-u7ZwpX8qgjN",
        "colab_type": "code",
        "colab": {
          "autoexec": {
            "startup": false,
            "wait_interval": 0
          }
        }
      },
      "cell_type": "code",
      "source": [
        "# Construct model\n",
        "prediction = multilayer_perceptron(X)"
      ],
      "execution_count": 0,
      "outputs": []
    },
    {
      "metadata": {
        "id": "azed8geUqgjR",
        "colab_type": "code",
        "colab": {
          "autoexec": {
            "startup": false,
            "wait_interval": 0
          }
        }
      },
      "cell_type": "code",
      "source": [
        "# Define loss and optimizer\n",
        "loss_op = tf.reduce_mean(tf.nn.softmax_cross_entropy_with_logits(logits=prediction, labels=Y))"
      ],
      "execution_count": 0,
      "outputs": []
    },
    {
      "metadata": {
        "id": "0t363GTtqgjU",
        "colab_type": "code",
        "colab": {
          "autoexec": {
            "startup": false,
            "wait_interval": 0
          }
        }
      },
      "cell_type": "code",
      "source": [
        "optimizer = tf.train.AdamOptimizer(learning_rate=learning_rate)\n",
        "train_op = optimizer.minimize(loss_op)"
      ],
      "execution_count": 0,
      "outputs": []
    },
    {
      "metadata": {
        "id": "h3q-sEp_qgjW",
        "colab_type": "code",
        "colab": {
          "autoexec": {
            "startup": false,
            "wait_interval": 0
          }
        }
      },
      "cell_type": "code",
      "source": [
        "# Initializing the variables\n",
        "init = tf.global_variables_initializer()"
      ],
      "execution_count": 0,
      "outputs": []
    },
    {
      "metadata": {
        "id": "y6ErIXTSqgjY",
        "colab_type": "code",
        "colab": {
          "autoexec": {
            "startup": false,
            "wait_interval": 0
          }
        }
      },
      "cell_type": "code",
      "source": [
        "sess = tf.InteractiveSession()"
      ],
      "execution_count": 0,
      "outputs": []
    },
    {
      "metadata": {
        "id": "0fMM76bdqgjd",
        "colab_type": "code",
        "colab": {
          "autoexec": {
            "startup": false,
            "wait_interval": 0
          }
        }
      },
      "cell_type": "code",
      "source": [
        "sess.run(init)"
      ],
      "execution_count": 0,
      "outputs": []
    },
    {
      "metadata": {
        "id": "l2Ce0ldtqgje",
        "colab_type": "code",
        "colab": {
          "autoexec": {
            "startup": false,
            "wait_interval": 0
          }
        }
      },
      "cell_type": "code",
      "source": [
        "def shuffle_dataset(X, Y):\n",
        "    random_indices = random.sample(range(0,len(X)), len(Y))\n",
        "    X = X[random_indices]\n",
        "    Y = Y[random_indices]\n",
        "    return (X,Y)"
      ],
      "execution_count": 0,
      "outputs": []
    },
    {
      "metadata": {
        "id": "d3vRNDhswOPr",
        "colab_type": "code",
        "colab": {
          "autoexec": {
            "startup": false,
            "wait_interval": 0
          },
          "output_extras": [
            {
              "item_id": 33
            }
          ],
          "base_uri": "https://localhost:8080/",
          "height": 578
        },
        "outputId": "918e807e-2dad-40ca-8126-3cfc9f1e741f",
        "executionInfo": {
          "status": "ok",
          "timestamp": 1516733454784,
          "user_tz": -330,
          "elapsed": 408322,
          "user": {
            "displayName": "SNADIG CP",
            "photoUrl": "https://lh3.googleusercontent.com/a/default-user=s128",
            "userId": "111186448378047970223"
          }
        }
      },
      "cell_type": "code",
      "source": [
        "for epoch in range(training_epochs):\n",
        "  # Training cycle\n",
        "  avg_cost = 0.\n",
        "  total_batch = len(X_train)//batch_size\n",
        "  X_shuffled, Y_shuffled = shuffle_dataset(X_train,y_train)\n",
        "  # Loop over all batches\n",
        "  for i in range(total_batch):\n",
        "      batch_x, batch_y = X_shuffled[i*batch_size:(i+1)*batch_size], Y_shuffled[i*batch_size:(i+1)*batch_size]\n",
        "      # Run optimization op (backprop) and cost op (to get loss value)\n",
        "      _, c = sess.run([train_op, loss_op], feed_dict={X: batch_x,\n",
        "                                                      Y: batch_y})\n",
        "      # Compute average loss\n",
        "      avg_cost += c / total_batch\n",
        "      if(epoch == 0):\n",
        "        if(i*batch_size % 100000 == 0):\n",
        "          print(\"Steps completed: {0}/{1}\".format(i, len(X_train)))\n",
        "  print(\"Epoch:\", '%04d' % (epoch+1), \"cost={:.9f}\".format(avg_cost))"
      ],
      "execution_count": 39,
      "outputs": [
        {
          "output_type": "stream",
          "text": [
            "Steps completed: 0/753631\n",
            "Steps completed: 100/753631\n",
            "Steps completed: 200/753631\n",
            "Steps completed: 300/753631\n",
            "Steps completed: 400/753631\n",
            "Steps completed: 500/753631\n",
            "Steps completed: 600/753631\n",
            "Steps completed: 700/753631\n",
            "Epoch: 0001 cost=15870091.261620179\n",
            "Epoch: 0002 cost=4984907.030212483\n",
            "Epoch: 0003 cost=3229775.474103590\n",
            "Epoch: 0004 cost=2327217.242861884\n",
            "Epoch: 0005 cost=1779749.126328021\n",
            "Epoch: 0006 cost=1425837.579515271\n",
            "Epoch: 0007 cost=1155745.961487384\n",
            "Epoch: 0008 cost=961697.110640771\n",
            "Epoch: 0009 cost=806430.227423638\n",
            "Epoch: 0010 cost=680043.795318725\n",
            "Epoch: 0011 cost=575743.362259295\n",
            "Epoch: 0012 cost=494789.652639442\n",
            "Epoch: 0013 cost=423981.239707835\n",
            "Epoch: 0014 cost=366989.031457504\n",
            "Epoch: 0015 cost=319266.606615206\n",
            "Epoch: 0016 cost=277392.537288346\n",
            "Epoch: 0017 cost=244312.811400232\n",
            "Epoch: 0018 cost=216002.200489708\n",
            "Epoch: 0019 cost=192796.958291832\n",
            "Epoch: 0020 cost=168304.037931607\n",
            "Epoch: 0021 cost=151685.243069389\n",
            "Epoch: 0022 cost=134068.426927706\n",
            "Epoch: 0023 cost=122245.647514110\n",
            "Epoch: 0024 cost=108692.594953519\n",
            "Epoch: 0025 cost=96773.890791003\n"
          ],
          "name": "stdout"
        }
      ]
    },
    {
      "metadata": {
        "id": "q9rMZFHfwLDx",
        "colab_type": "code",
        "colab": {
          "autoexec": {
            "startup": false,
            "wait_interval": 0
          },
          "output_extras": [
            {
              "item_id": 1
            }
          ],
          "base_uri": "https://localhost:8080/",
          "height": 34
        },
        "outputId": "8c66b19c-2477-43a3-e549-15187e024671",
        "executionInfo": {
          "status": "ok",
          "timestamp": 1516733457627,
          "user_tz": -330,
          "elapsed": 2825,
          "user": {
            "displayName": "SNADIG CP",
            "photoUrl": "https://lh3.googleusercontent.com/a/default-user=s128",
            "userId": "111186448378047970223"
          }
        }
      },
      "cell_type": "code",
      "source": [
        "# Test model\n",
        "pred = tf.nn.softmax(prediction)  # Apply softmax to logits\n",
        "correct_prediction = tf.equal(tf.argmax(pred, 1), tf.argmax(Y, 1))\n",
        "# Calculate accuracy\n",
        "accuracy = tf.reduce_mean(tf.cast(correct_prediction, \"float\"))\n",
        "print(\"Accuracy:\", accuracy.eval({X: X_test, Y: y_test}))"
      ],
      "execution_count": 40,
      "outputs": [
        {
          "output_type": "stream",
          "text": [
            "Accuracy: 0.33593667\n"
          ],
          "name": "stdout"
        }
      ]
    },
    {
      "metadata": {
        "id": "AXrxui9fxjZP",
        "colab_type": "code",
        "colab": {
          "autoexec": {
            "startup": false,
            "wait_interval": 0
          },
          "output_extras": [
            {
              "item_id": 1
            }
          ],
          "base_uri": "https://localhost:8080/",
          "height": 34
        },
        "outputId": "ac450676-dddc-4ba5-f8b8-bbbef7bb8cfb",
        "executionInfo": {
          "status": "ok",
          "timestamp": 1516733460598,
          "user_tz": -330,
          "elapsed": 2956,
          "user": {
            "displayName": "SNADIG CP",
            "photoUrl": "https://lh3.googleusercontent.com/a/default-user=s128",
            "userId": "111186448378047970223"
          }
        }
      },
      "cell_type": "code",
      "source": [
        "# Test model\n",
        "pred = tf.nn.softmax(prediction)  # Apply softmax to logits\n",
        "correct_prediction = tf.equal(tf.argmax(pred, 1), tf.argmax(Y, 1))\n",
        "# Calculate accuracy\n",
        "accuracy = tf.reduce_mean(tf.cast(correct_prediction, \"float\"))\n",
        "print(\"Accuracy:\", accuracy.eval({X: X_train[:len(X_train)//2], Y: y_train[:len(y_train)//2]}))"
      ],
      "execution_count": 41,
      "outputs": [
        {
          "output_type": "stream",
          "text": [
            "Accuracy: 0.34640342\n"
          ],
          "name": "stdout"
        }
      ]
    },
    {
      "metadata": {
        "id": "ie4utve54lQz",
        "colab_type": "code",
        "colab": {
          "autoexec": {
            "startup": false,
            "wait_interval": 0
          },
          "output_extras": [
            {
              "item_id": 1
            }
          ],
          "base_uri": "https://localhost:8080/",
          "height": 34
        },
        "outputId": "97d2a4a0-a3eb-4324-fedf-c7d2eb71be3e",
        "executionInfo": {
          "status": "ok",
          "timestamp": 1516733463520,
          "user_tz": -330,
          "elapsed": 2910,
          "user": {
            "displayName": "SNADIG CP",
            "photoUrl": "https://lh3.googleusercontent.com/a/default-user=s128",
            "userId": "111186448378047970223"
          }
        }
      },
      "cell_type": "code",
      "source": [
        "# Test model\n",
        "pred = tf.nn.softmax(prediction)  # Apply softmax to logits\n",
        "correct_prediction = tf.equal(tf.argmax(pred, 1), tf.argmax(Y, 1))\n",
        "# Calculate accuracy\n",
        "accuracy = tf.reduce_mean(tf.cast(correct_prediction, \"float\"))\n",
        "print(\"Accuracy:\", accuracy.eval({X: X_train[len(X_train)//2:], Y: y_train[len(y_train)//2:]}))"
      ],
      "execution_count": 42,
      "outputs": [
        {
          "output_type": "stream",
          "text": [
            "Accuracy: 0.34932435\n"
          ],
          "name": "stdout"
        }
      ]
    }
  ]
}