{
 "cells": [
  {
   "cell_type": "code",
   "execution_count": 12,
   "metadata": {
    "collapsed": true
   },
   "outputs": [],
   "source": [
    "import pandas as pd\n",
    "import numpy as np\n",
    "import re\n",
    "from sklearn.metrics import accuracy_score"
   ]
  },
  {
   "cell_type": "code",
   "execution_count": 2,
   "metadata": {
    "collapsed": true
   },
   "outputs": [],
   "source": [
    "with open(\"all_test.posteriors_new3\") as kaldi_posteriors_file:\n",
    "    kaldi_posteriors = kaldi_posteriors_file.readlines()"
   ]
  },
  {
   "cell_type": "code",
   "execution_count": 3,
   "metadata": {
    "collapsed": true
   },
   "outputs": [],
   "source": [
    "posteriors = pd.DataFrame(columns=[\"speaker_id\", \"sentence_id\", \"frame_number\", \"use\", \"kaldi_posteriors\", \"label\", \"mapped_label\"])"
   ]
  },
  {
   "cell_type": "code",
   "execution_count": 4,
   "metadata": {
    "collapsed": true
   },
   "outputs": [],
   "source": [
    "frame_number = 1\n",
    "use = \"test\"\n",
    "dummy_np = []\n",
    "for line in kaldi_posteriors:\n",
    "    line = re.sub(\" \\[\", \"\", line.strip())\n",
    "    line = re.sub(\" \\]\", \"\", line.strip())\n",
    "    if(\"_\" in line):\n",
    "        speaker_id, sentence_id = line.split(\"_\")\n",
    "        frame_number = 1\n",
    "    else:\n",
    "        posteriors = [float(ele) for ele in line.split(\" \")]\n",
    "        dummy_np.append([speaker_id, sentence_id, frame_number, use, posteriors, \"None\"])\n",
    "        frame_number += 1"
   ]
  },
  {
   "cell_type": "code",
   "execution_count": 5,
   "metadata": {
    "collapsed": true
   },
   "outputs": [],
   "source": [
    "kaldi_labels = pd.read_pickle(\"test_with_mapped_labels.pkl\")"
   ]
  },
  {
   "cell_type": "code",
   "execution_count": 6,
   "metadata": {},
   "outputs": [
    {
     "data": {
      "text/html": [
       "<div>\n",
       "<style>\n",
       "    .dataframe thead tr:only-child th {\n",
       "        text-align: right;\n",
       "    }\n",
       "\n",
       "    .dataframe thead th {\n",
       "        text-align: left;\n",
       "    }\n",
       "\n",
       "    .dataframe tbody tr th {\n",
       "        vertical-align: top;\n",
       "    }\n",
       "</style>\n",
       "<table border=\"1\" class=\"dataframe\">\n",
       "  <thead>\n",
       "    <tr style=\"text-align: right;\">\n",
       "      <th></th>\n",
       "      <th>speaker_id</th>\n",
       "      <th>sentence_id</th>\n",
       "      <th>frame_number</th>\n",
       "      <th>use</th>\n",
       "      <th>feature_vector</th>\n",
       "      <th>label</th>\n",
       "      <th>mapped_labels</th>\n",
       "    </tr>\n",
       "  </thead>\n",
       "  <tbody>\n",
       "    <tr>\n",
       "      <th>0</th>\n",
       "      <td>FDHC0</td>\n",
       "      <td>SI1559</td>\n",
       "      <td>1</td>\n",
       "      <td>train</td>\n",
       "      <td>[-4.52633, 0.02125172, -3.103144, -0.1826605, ...</td>\n",
       "      <td>0</td>\n",
       "      <td>42</td>\n",
       "    </tr>\n",
       "    <tr>\n",
       "      <th>1</th>\n",
       "      <td>FDHC0</td>\n",
       "      <td>SI1559</td>\n",
       "      <td>2</td>\n",
       "      <td>train</td>\n",
       "      <td>[-5.009317, -0.1809075, -3.107169, -0.1852918,...</td>\n",
       "      <td>0</td>\n",
       "      <td>42</td>\n",
       "    </tr>\n",
       "    <tr>\n",
       "      <th>2</th>\n",
       "      <td>FDHC0</td>\n",
       "      <td>SI1559</td>\n",
       "      <td>3</td>\n",
       "      <td>train</td>\n",
       "      <td>[-5.625691, -0.3789468, -3.112408, -0.01292514...</td>\n",
       "      <td>0</td>\n",
       "      <td>42</td>\n",
       "    </tr>\n",
       "    <tr>\n",
       "      <th>3</th>\n",
       "      <td>FDHC0</td>\n",
       "      <td>SI1559</td>\n",
       "      <td>4</td>\n",
       "      <td>train</td>\n",
       "      <td>[-6.03809, -0.3803073, -3.133071, -0.5771251, ...</td>\n",
       "      <td>50</td>\n",
       "      <td>41</td>\n",
       "    </tr>\n",
       "    <tr>\n",
       "      <th>4</th>\n",
       "      <td>FDHC0</td>\n",
       "      <td>SI1559</td>\n",
       "      <td>5</td>\n",
       "      <td>train</td>\n",
       "      <td>[-6.048991, -1.165254, -2.996357, -1.239447, 0...</td>\n",
       "      <td>50</td>\n",
       "      <td>41</td>\n",
       "    </tr>\n",
       "  </tbody>\n",
       "</table>\n",
       "</div>"
      ],
      "text/plain": [
       "  speaker_id sentence_id  frame_number    use  \\\n",
       "0      FDHC0      SI1559             1  train   \n",
       "1      FDHC0      SI1559             2  train   \n",
       "2      FDHC0      SI1559             3  train   \n",
       "3      FDHC0      SI1559             4  train   \n",
       "4      FDHC0      SI1559             5  train   \n",
       "\n",
       "                                      feature_vector  label  mapped_labels  \n",
       "0  [-4.52633, 0.02125172, -3.103144, -0.1826605, ...      0             42  \n",
       "1  [-5.009317, -0.1809075, -3.107169, -0.1852918,...      0             42  \n",
       "2  [-5.625691, -0.3789468, -3.112408, -0.01292514...      0             42  \n",
       "3  [-6.03809, -0.3803073, -3.133071, -0.5771251, ...     50             41  \n",
       "4  [-6.048991, -1.165254, -2.996357, -1.239447, 0...     50             41  "
      ]
     },
     "execution_count": 6,
     "metadata": {},
     "output_type": "execute_result"
    }
   ],
   "source": [
    "kaldi_labels.head()"
   ]
  },
  {
   "cell_type": "code",
   "execution_count": 7,
   "metadata": {
    "collapsed": true
   },
   "outputs": [],
   "source": [
    "speaker_ids = [ele[0] for ele in dummy_np]\n",
    "sentence_ids = [ele[1] for ele in dummy_np]\n",
    "frame_numbers = [ele[2] for ele in dummy_np]\n",
    "use = [ele[3] for ele in dummy_np]\n",
    "posteriors = [ele[4] for ele in dummy_np]\n",
    "label = kaldi_labels[\"label\"]"
   ]
  },
  {
   "cell_type": "code",
   "execution_count": 8,
   "metadata": {},
   "outputs": [
    {
     "data": {
      "text/plain": [
       "0"
      ]
     },
     "execution_count": 8,
     "metadata": {},
     "output_type": "execute_result"
    }
   ],
   "source": [
    "posteriors[0].index(max(posteriors[0]))"
   ]
  },
  {
   "cell_type": "code",
   "execution_count": 9,
   "metadata": {
    "collapsed": true
   },
   "outputs": [],
   "source": [
    "def get_map_1944_to_48(id):\n",
    "    phone_maps = pd.read_pickle(\"phone_map_1944_to_48.pkl\")\n",
    "    phones = phone_maps[\"phone\"]\n",
    "    maps = phone_maps[\"map\"]\n",
    "    for i in range(len(maps)):\n",
    "        if(id in maps[i]):\n",
    "            return(i)"
   ]
  },
  {
   "cell_type": "code",
   "execution_count": 10,
   "metadata": {
    "collapsed": true
   },
   "outputs": [],
   "source": [
    "kaldi_labels_list = []\n",
    "for i in range(len(posteriors)):\n",
    "    kaldi_labels_list.append(posteriors[i].index(max(posteriors[i])))"
   ]
  },
  {
   "cell_type": "code",
   "execution_count": 11,
   "metadata": {
    "collapsed": true
   },
   "outputs": [],
   "source": [
    "mapped_kaldi_phones = [get_map_1944_to_48(ele) for ele in kaldi_labels_list]"
   ]
  },
  {
   "cell_type": "code",
   "execution_count": 20,
   "metadata": {},
   "outputs": [
    {
     "data": {
      "text/plain": [
       "0.030093751618639825"
      ]
     },
     "execution_count": 20,
     "metadata": {},
     "output_type": "execute_result"
    }
   ],
   "source": [
    "accuracy_score(kaldi_labels[\"mapped_labels\"].tolist(), mapped_kaldi_phones)"
   ]
  },
  {
   "cell_type": "code",
   "execution_count": 29,
   "metadata": {},
   "outputs": [
    {
     "data": {
      "text/plain": [
       "81.35942327497425"
      ]
     },
     "execution_count": 29,
     "metadata": {},
     "output_type": "execute_result"
    }
   ],
   "source": [
    "len(set(kaldi_labels_list)&set(kaldi_labels[\"label\"])) / float(len(set(kaldi_labels_list) | set(kaldi_labels[\"label\"]))) * 100"
   ]
  },
  {
   "cell_type": "code",
   "execution_count": 30,
   "metadata": {},
   "outputs": [
    {
     "data": {
      "text/plain": [
       "100.0"
      ]
     },
     "execution_count": 30,
     "metadata": {},
     "output_type": "execute_result"
    }
   ],
   "source": [
    "len(set(mapped_kaldi_phones)&set(kaldi_labels[\"mapped_labels\"])) / float(len(set(mapped_kaldi_phones) | set(kaldi_labels[\"mapped_labels\"]))) * 100"
   ]
  },
  {
   "cell_type": "code",
   "execution_count": 31,
   "metadata": {},
   "outputs": [
    {
     "data": {
      "text/plain": [
       "81.07271789582259"
      ]
     },
     "execution_count": 31,
     "metadata": {},
     "output_type": "execute_result"
    }
   ],
   "source": [
    "81.07271789582259"
   ]
  }
 ],
 "metadata": {
  "kernelspec": {
   "display_name": "Python 3",
   "language": "python",
   "name": "python3"
  },
  "language_info": {
   "codemirror_mode": {
    "name": "ipython",
    "version": 3
   },
   "file_extension": ".py",
   "mimetype": "text/x-python",
   "name": "python",
   "nbconvert_exporter": "python",
   "pygments_lexer": "ipython3",
   "version": "3.6.3"
  }
 },
 "nbformat": 4,
 "nbformat_minor": 2
}
