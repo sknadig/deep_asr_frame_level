{
 "cells": [
  {
   "cell_type": "code",
   "execution_count": 1,
   "metadata": {
    "collapsed": true
   },
   "outputs": [],
   "source": [
    "import pandas as pd\n",
    "import numpy as np\n",
    "import re"
   ]
  },
  {
   "cell_type": "code",
   "execution_count": 2,
   "metadata": {
    "collapsed": true
   },
   "outputs": [],
   "source": [
    "with open(\"./alis/gzs/ali.post2\") as ali_file:\n",
    "    contents = ali_file.readlines()"
   ]
  },
  {
   "cell_type": "code",
   "execution_count": 3,
   "metadata": {
    "collapsed": true
   },
   "outputs": [],
   "source": [
    "with open(\"./alis/all_train.alignments\") as ali_file2:\n",
    "    contents2 = ali_file2.readlines()"
   ]
  },
  {
   "cell_type": "code",
   "execution_count": 4,
   "metadata": {},
   "outputs": [],
   "source": [
    "line = contents[0]\n",
    "labels_list = line.strip().split(\"[\")\n",
    "labels_list = [re.sub(\"\\]\", \"\", ele.strip()).strip().split()[0] for ele in labels_list]\n",
    "speaker_id, sentence_id = labels_list[0].split(\"_\")\n",
    "alis_post = np.array([int(ele) for ele in labels_list[1:]])"
   ]
  },
  {
   "cell_type": "code",
   "execution_count": 5,
   "metadata": {},
   "outputs": [],
   "source": [
    "ali_pdf = np.array([int(ele) for ele in contents2[1848].strip().split(\" \")[1:]])"
   ]
  },
  {
   "cell_type": "code",
   "execution_count": 7,
   "metadata": {},
   "outputs": [],
   "source": [
    "new_ali = alis_post - ali_pdf"
   ]
  },
  {
   "cell_type": "code",
   "execution_count": 8,
   "metadata": {
    "collapsed": true
   },
   "outputs": [],
   "source": [
    "non_zero_indices = []\n",
    "for i in range(len(new_ali)):\n",
    "    if(new_ali[i]):\n",
    "        non_zero_indices.append(i)"
   ]
  },
  {
   "cell_type": "code",
   "execution_count": 12,
   "metadata": {},
   "outputs": [
    {
     "data": {
      "text/plain": [
       "[1,\n",
       " 45,\n",
       " 51,\n",
       " 55,\n",
       " 61,\n",
       " 69,\n",
       " 71,\n",
       " 74,\n",
       " 86,\n",
       " 87,\n",
       " 91,\n",
       " 117,\n",
       " 118,\n",
       " 135,\n",
       " 147,\n",
       " 168,\n",
       " 170,\n",
       " 186,\n",
       " 205,\n",
       " 259,\n",
       " 260,\n",
       " 270,\n",
       " 283,\n",
       " 284,\n",
       " 341,\n",
       " 358,\n",
       " 369,\n",
       " 376,\n",
       " 407,\n",
       " 418,\n",
       " 434,\n",
       " 439,\n",
       " 444,\n",
       " 472]"
      ]
     },
     "execution_count": 12,
     "metadata": {},
     "output_type": "execute_result"
    }
   ],
   "source": [
    "non_zero_indices"
   ]
  },
  {
   "cell_type": "code",
   "execution_count": 16,
   "metadata": {},
   "outputs": [
    {
     "name": "stdout",
     "output_type": "stream",
     "text": [
      "[ 432   91   91   91  211  211 1547 1226]\n",
      "[ 432   91   91   91  211 1547 1547 1226]\n"
     ]
    }
   ],
   "source": [
    "print(ali_pdf[40:48])\n",
    "print(alis_post[40:48])"
   ]
  },
  {
   "cell_type": "code",
   "execution_count": 10,
   "metadata": {},
   "outputs": [
    {
     "data": {
      "text/plain": [
       "array([   0,  211,  663,  633,  263, 1836,   66, 1540, 1654, 1654, 1811,\n",
       "        613,  613, 1880, 1220, 1899, 1774,  249,  566, 1226, 1666, 1301,\n",
       "       1324,  900, 1384, 1812,  125,    2,  775, 1210,  867, 1282, 1630,\n",
       "         49])"
      ]
     },
     "execution_count": 10,
     "metadata": {},
     "output_type": "execute_result"
    }
   ],
   "source": [
    "ali_pdf[non_zero_indices]"
   ]
  },
  {
   "cell_type": "code",
   "execution_count": 11,
   "metadata": {},
   "outputs": [
    {
     "data": {
      "text/plain": [
       "array([  54, 1547, 1226,  663,  633,   66, 1540,  450, 1630, 1630, 1200,\n",
       "       1178, 1178, 1780, 1049, 1774,  530,  531,   78, 1373, 1226, 1864,\n",
       "        900,  794, 1594, 1268,    0,   49,  632, 1359,  923,  288,  822,\n",
       "         54])"
      ]
     },
     "execution_count": 11,
     "metadata": {},
     "output_type": "execute_result"
    }
   ],
   "source": [
    "alis_post[non_zero_indices]"
   ]
  }
 ],
 "metadata": {
  "kernelspec": {
   "display_name": "Python 3",
   "language": "python",
   "name": "python3"
  },
  "language_info": {
   "codemirror_mode": {
    "name": "ipython",
    "version": 3
   },
   "file_extension": ".py",
   "mimetype": "text/x-python",
   "name": "python",
   "nbconvert_exporter": "python",
   "pygments_lexer": "ipython3",
   "version": "3.6.3"
  }
 },
 "nbformat": 4,
 "nbformat_minor": 2
}
