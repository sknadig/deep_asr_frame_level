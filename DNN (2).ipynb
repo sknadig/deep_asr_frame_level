{
  "nbformat": 4,
  "nbformat_minor": 0,
  "metadata": {
    "colab": {
      "name": "DNN.ipynb",
      "version": "0.3.2",
      "views": {},
      "default_view": {},
      "provenance": [],
      "collapsed_sections": []
    },
    "kernelspec": {
      "display_name": "Python 3",
      "language": "python",
      "name": "python3"
    },
    "accelerator": "GPU"
  },
  "cells": [
    {
      "metadata": {
        "id": "FOfH1RnMqgif",
        "colab_type": "code",
        "colab": {
          "autoexec": {
            "startup": false,
            "wait_interval": 0
          },
          "output_extras": [
            {
              "item_id": 1
            }
          ],
          "base_uri": "https://localhost:8080/",
          "height": 71
        },
        "outputId": "67b776a6-246a-41d4-f5dd-d0d803436e29",
        "executionInfo": {
          "status": "ok",
          "timestamp": 1516734013341,
          "user_tz": -330,
          "elapsed": 1162,
          "user": {
            "displayName": "SNADIG CP",
            "photoUrl": "https://lh3.googleusercontent.com/a/default-user=s128",
            "userId": "111186448378047970223"
          }
        }
      },
      "cell_type": "code",
      "source": [
        "import tensorflow as tf\n",
        "import pandas as pd\n",
        "import numpy as np\n",
        "import random\n",
        "from sklearn.cross_validation import train_test_split"
      ],
      "execution_count": 1,
      "outputs": [
        {
          "output_type": "stream",
          "text": [
            "/usr/local/lib/python3.6/dist-packages/sklearn/cross_validation.py:41: DeprecationWarning: This module was deprecated in version 0.18 in favor of the model_selection module into which all the refactored classes and functions are moved. Also note that the interface of the new CV iterators are different from that of this module. This module will be removed in 0.20.\n",
            "  \"This module will be removed in 0.20.\", DeprecationWarning)\n"
          ],
          "name": "stderr"
        }
      ]
    },
    {
      "metadata": {
        "id": "Zt6VEwYfzYbB",
        "colab_type": "code",
        "colab": {
          "autoexec": {
            "startup": false,
            "wait_interval": 0
          }
        }
      },
      "cell_type": "code",
      "source": [
        "# Install the PyDrive wrapper & import libraries.\n",
        "# This only needs to be done once per notebook.\n",
        "!pip install -U -q PyDrive\n",
        "from pydrive.auth import GoogleAuth\n",
        "from pydrive.drive import GoogleDrive\n",
        "from google.colab import auth\n",
        "from oauth2client.client import GoogleCredentials\n",
        "\n",
        "# Authenticate and create the PyDrive client.\n",
        "# This only needs to be done once per notebook.\n",
        "auth.authenticate_user()\n",
        "gauth = GoogleAuth()\n",
        "gauth.credentials = GoogleCredentials.get_application_default()\n",
        "drive = GoogleDrive(gauth)"
      ],
      "execution_count": 0,
      "outputs": []
    },
    {
      "metadata": {
        "id": "zmZ2iOtTzgWU",
        "colab_type": "code",
        "colab": {
          "autoexec": {
            "startup": false,
            "wait_interval": 0
          },
          "output_extras": [
            {
              "item_id": 1
            }
          ],
          "base_uri": "https://localhost:8080/",
          "height": 238
        },
        "outputId": "41f09c30-bbe3-4b58-a4cc-5c9cc4990b54",
        "executionInfo": {
          "status": "ok",
          "timestamp": 1516734020513,
          "user_tz": -330,
          "elapsed": 939,
          "user": {
            "displayName": "SNADIG CP",
            "photoUrl": "https://lh3.googleusercontent.com/a/default-user=s128",
            "userId": "111186448378047970223"
          }
        }
      },
      "cell_type": "code",
      "source": [
        "# List .txt files in the root.\n",
        "#\n",
        "# Search query reference:\n",
        "# https://developers.google.com/drive/v2/web/search-parameters\n",
        "listed = drive.ListFile().GetList()\n",
        "for file in listed:\n",
        "  print('title {}, id {}'.format(file['title'], file['id']))"
      ],
      "execution_count": 3,
      "outputs": [
        {
          "output_type": "stream",
          "text": [
            "title DNN.ipynb, id 1PouCenS2tKofZWjrOo7ke-eQ46p32iyI\n",
            "title RNN.ipynb, id 19r_dd89G14_x_NqYxACon_LVkg7R1qd0\n",
            "title sample_phones_with_shuffling.ipynb, id 1DgTzyyf5a7cowx2gNLwylqqoP-l968vh\n",
            "title sample_phones_with_shuffling.ipynb, id 1_HhSJSMCsTEqpI5BZFAxFyF7k5DxEgTp\n",
            "title Untitled0.ipynb, id 1GO7GAV5U021FUw79Z6gZ8rS0N4Vzz7Im\n",
            "title Untitled0.ipynb, id 1c2XTxnRJRhwpfjGVYynbw7rTzl3sT4gs\n",
            "title Untitled1.ipynb, id 19L2jhVfnalXOvlgFI7TQj4nk0hdc8esZ\n",
            "title mfcc_alignments.pkl, id 14X-vptKNFo9t-ltnNuXZp_UFHPyaAeA2\n",
            "title mfcc_alignments.pkl, id 10FsU7gZvkTHyUuhQwUAwsLmEMkIiD4xL\n",
            "title Untitled folder, id 1N3xA66rADBEFIiNYupzDFYLwKkwleaGV\n",
            "title sample_phones_with_shuffling.ipynb, id 1tPhS-QoSx-Y9_TwTAUYX3nzzsJqs1vE5\n",
            "title Colab Notebooks, id 1tebh5kjU9pWe5wmoCGi2oJqtt4VniNuW\n",
            "title Getting started, id 0B-COj-emT6bUc3RhcnRlcl9maWxl\n"
          ],
          "name": "stdout"
        }
      ]
    },
    {
      "metadata": {
        "id": "OnZG3JvtzgiO",
        "colab_type": "code",
        "colab": {
          "autoexec": {
            "startup": false,
            "wait_interval": 0
          },
          "output_extras": [
            {
              "item_id": 1
            }
          ],
          "base_uri": "https://localhost:8080/",
          "height": 187
        },
        "outputId": "14939046-210e-4aa4-a4b7-a678ddfccd6b",
        "executionInfo": {
          "status": "ok",
          "timestamp": 1516734027580,
          "user_tz": -330,
          "elapsed": 6981,
          "user": {
            "displayName": "SNADIG CP",
            "photoUrl": "https://lh3.googleusercontent.com/a/default-user=s128",
            "userId": "111186448378047970223"
          }
        }
      },
      "cell_type": "code",
      "source": [
        "selection = \"mfcc_alignments.pkl\"\n",
        "for file in listed:\n",
        "  if file['title'] == selection:\n",
        "    file.GetContentFile(selection)\n",
        "import os\n",
        "os.listdir(\".\")"
      ],
      "execution_count": 4,
      "outputs": [
        {
          "output_type": "execute_result",
          "data": {
            "text/plain": [
              "['datalab',\n",
              " '.ipython',\n",
              " '.config',\n",
              " 'mfcc_alignments.pkl',\n",
              " '.forever',\n",
              " '.rnd',\n",
              " '.nv',\n",
              " '.cache',\n",
              " '.local',\n",
              " '.keras']"
            ]
          },
          "metadata": {
            "tags": []
          },
          "execution_count": 4
        }
      ]
    },
    {
      "metadata": {
        "id": "ExKRf1_nqgio",
        "colab_type": "code",
        "colab": {
          "autoexec": {
            "startup": false,
            "wait_interval": 0
          }
        }
      },
      "cell_type": "code",
      "source": [
        "data=pd.read_pickle(\"mfcc_alignments.pkl\")\n",
        "labels_list = data[\"label\"]\n",
        "j=1\n",
        "for i in range(1,288,6):\n",
        "    labels_list = labels_list.replace(to_replace=np.arange(i,i+6), value=j)\n",
        "    j+=1\n",
        "data[\"label\"] = labels_list"
      ],
      "execution_count": 0,
      "outputs": []
    },
    {
      "metadata": {
        "id": "iyZejWmcqgiu",
        "colab_type": "code",
        "colab": {
          "autoexec": {
            "startup": false,
            "wait_interval": 0
          }
        }
      },
      "cell_type": "code",
      "source": [
        "X_input = data[\"mfcc\"]\n",
        "Y_input = data[\"label\"]"
      ],
      "execution_count": 0,
      "outputs": []
    },
    {
      "metadata": {
        "id": "D4eibtkTqgiz",
        "colab_type": "code",
        "colab": {
          "autoexec": {
            "startup": false,
            "wait_interval": 0
          }
        }
      },
      "cell_type": "code",
      "source": [
        "X1 = X_input.tolist()\n",
        "# Y1 = pd.get_dummies(Y_input.tolist()).values\n",
        "Y1 = Y_input.tolist()"
      ],
      "execution_count": 0,
      "outputs": []
    },
    {
      "metadata": {
        "id": "ww-NP6In_wBW",
        "colab_type": "code",
        "colab": {
          "autoexec": {
            "startup": false,
            "wait_interval": 0
          }
        }
      },
      "cell_type": "code",
      "source": [
        "Y1 = [ele-1 for ele in Y1]"
      ],
      "execution_count": 0,
      "outputs": []
    },
    {
      "metadata": {
        "id": "p4EMEPZrqgi3",
        "colab_type": "code",
        "colab": {
          "autoexec": {
            "startup": false,
            "wait_interval": 0
          }
        }
      },
      "cell_type": "code",
      "source": [
        "X1 = np.asarray([np.asarray(ele, np.float32) for ele in X1])\n",
        "Y1 = np.asarray([np.asarray(ele, np.int32) for ele in Y1])"
      ],
      "execution_count": 0,
      "outputs": []
    },
    {
      "metadata": {
        "id": "nUYQPShbqgi7",
        "colab_type": "code",
        "colab": {
          "autoexec": {
            "startup": false,
            "wait_interval": 0
          }
        }
      },
      "cell_type": "code",
      "source": [
        "X1 = X1 / X1.max(axis=0)"
      ],
      "execution_count": 0,
      "outputs": []
    },
    {
      "metadata": {
        "id": "V-45xACE1Vtj",
        "colab_type": "code",
        "colab": {
          "autoexec": {
            "startup": false,
            "wait_interval": 0
          }
        }
      },
      "cell_type": "code",
      "source": [
        "select_indices = random.sample(range(0,len(X1)), len(X1))\n",
        "X1 = X1[select_indices]\n",
        "Y1 = Y1[select_indices]"
      ],
      "execution_count": 0,
      "outputs": []
    },
    {
      "metadata": {
        "id": "XPeqPhduwa09",
        "colab_type": "code",
        "colab": {
          "autoexec": {
            "startup": false,
            "wait_interval": 0
          }
        }
      },
      "cell_type": "code",
      "source": [
        "X_train, X_test, y_train, y_test = train_test_split(X1, Y1, test_size=0.33, random_state=0)"
      ],
      "execution_count": 0,
      "outputs": []
    },
    {
      "metadata": {
        "id": "A_dXovrAqgjA",
        "colab_type": "code",
        "colab": {
          "autoexec": {
            "startup": false,
            "wait_interval": 0
          }
        }
      },
      "cell_type": "code",
      "source": [
        "# Parameters\n",
        "learning_rate = 0.001\n",
        "training_epochs = 25\n",
        "batch_size = 1000\n",
        "display_step = 1"
      ],
      "execution_count": 0,
      "outputs": []
    },
    {
      "metadata": {
        "id": "jKu_5wWvqgjE",
        "colab_type": "code",
        "colab": {
          "autoexec": {
            "startup": false,
            "wait_interval": 0
          }
        }
      },
      "cell_type": "code",
      "source": [
        "# tf Graph input\n",
        "X = tf.placeholder(\"float\", [None, 13])\n",
        "Y = tf.placeholder(\"float\", [None, 48])"
      ],
      "execution_count": 0,
      "outputs": []
    },
    {
      "metadata": {
        "id": "-g3LSXBa7s4J",
        "colab_type": "code",
        "colab": {
          "autoexec": {
            "startup": false,
            "wait_interval": 0
          }
        }
      },
      "cell_type": "code",
      "source": [
        "feature_columns = [tf.feature_column.numeric_column(\"x\", shape=[13])]"
      ],
      "execution_count": 0,
      "outputs": []
    },
    {
      "metadata": {
        "id": "5rN2bX2Z7awp",
        "colab_type": "code",
        "colab": {
          "autoexec": {
            "startup": false,
            "wait_interval": 0
          },
          "output_extras": [
            {
              "item_id": 1
            }
          ],
          "base_uri": "https://localhost:8080/",
          "height": 88
        },
        "outputId": "abd25981-c04c-4113-c9e3-e347ce539bef",
        "executionInfo": {
          "status": "ok",
          "timestamp": 1516734067203,
          "user_tz": -330,
          "elapsed": 941,
          "user": {
            "displayName": "SNADIG CP",
            "photoUrl": "https://lh3.googleusercontent.com/a/default-user=s128",
            "userId": "111186448378047970223"
          }
        }
      },
      "cell_type": "code",
      "source": [
        "classifier = tf.estimator.DNNClassifier(feature_columns=feature_columns,\n",
        "                                   hidden_units=[1024, 1024, 1024, 1024, 1024, 1024],\n",
        "                                   activation_fn=tf.nn.relu,\n",
        "                                   dropout=0.2,\n",
        "                                   n_classes=48,\n",
        "                                   optimizer=\"Adam\")"
      ],
      "execution_count": 19,
      "outputs": [
        {
          "output_type": "stream",
          "text": [
            "INFO:tensorflow:Using default config.\n",
            "WARNING:tensorflow:Using temporary folder as model directory: /tmp/tmp_m1lkxou\n",
            "INFO:tensorflow:Using config: {'_model_dir': '/tmp/tmp_m1lkxou', '_tf_random_seed': None, '_save_summary_steps': 100, '_save_checkpoints_steps': None, '_save_checkpoints_secs': 600, '_session_config': None, '_keep_checkpoint_max': 5, '_keep_checkpoint_every_n_hours': 10000, '_log_step_count_steps': 100, '_service': None, '_cluster_spec': <tensorflow.python.training.server_lib.ClusterSpec object at 0x7f44e4a71cc0>, '_task_type': 'worker', '_task_id': 0, '_master': '', '_is_chief': True, '_num_ps_replicas': 0, '_num_worker_replicas': 1}\n"
          ],
          "name": "stdout"
        }
      ]
    },
    {
      "metadata": {
        "id": "9-_3zpyD7mZ6",
        "colab_type": "code",
        "colab": {
          "autoexec": {
            "startup": false,
            "wait_interval": 0
          }
        }
      },
      "cell_type": "code",
      "source": [
        "# Define the training inputs\n",
        "train_input_fn = tf.estimator.inputs.numpy_input_fn(\n",
        "    x={\"x\": np.array(X_train)},\n",
        "    y=np.array(y_train),\n",
        "    num_epochs=10,\n",
        "    shuffle=True)"
      ],
      "execution_count": 0,
      "outputs": []
    },
    {
      "metadata": {
        "id": "Lj_l8ixP8Fp-",
        "colab_type": "code",
        "colab": {
          "autoexec": {
            "startup": false,
            "wait_interval": 0
          }
        }
      },
      "cell_type": "code",
      "source": [
        "test_input_fn = tf.estimator.inputs.numpy_input_fn(\n",
        "      x={\"x\": np.array(X_test)},\n",
        "      y=np.array(y_test),\n",
        "      num_epochs=1,\n",
        "      shuffle=False)"
      ],
      "execution_count": 0,
      "outputs": []
    },
    {
      "metadata": {
        "id": "x8WE86zD8NPj",
        "colab_type": "code",
        "colab": {
          "autoexec": {
            "startup": false,
            "wait_interval": 0
          },
          "output_extras": [
            {
              "item_id": 61
            },
            {
              "item_id": 124
            },
            {
              "item_id": 187
            },
            {
              "item_id": 234
            },
            {
              "item_id": 290
            },
            {
              "item_id": 349
            },
            {
              "item_id": 376
            },
            {
              "item_id": 377
            }
          ],
          "base_uri": "https://localhost:8080/",
          "height": 6885
        },
        "outputId": "b63049df-5d2c-4a7a-d2c1-5e5bbeeeaf89",
        "executionInfo": {
          "status": "ok",
          "timestamp": 1516734269874,
          "user_tz": -330,
          "elapsed": 200618,
          "user": {
            "displayName": "SNADIG CP",
            "photoUrl": "https://lh3.googleusercontent.com/a/default-user=s128",
            "userId": "111186448378047970223"
          }
        }
      },
      "cell_type": "code",
      "source": [
        "classifier.train(input_fn=train_input_fn, steps=20000)"
      ],
      "execution_count": 22,
      "outputs": [
        {
          "output_type": "stream",
          "text": [
            "INFO:tensorflow:Create CheckpointSaverHook.\n",
            "INFO:tensorflow:Saving checkpoints for 1 into /tmp/tmp_m1lkxou/model.ckpt.\n",
            "INFO:tensorflow:loss = 495.4826, step = 1\n",
            "INFO:tensorflow:global_step/sec: 87.8107\n",
            "INFO:tensorflow:loss = 463.00748, step = 101 (1.143 sec)\n",
            "INFO:tensorflow:global_step/sec: 101.904\n",
            "INFO:tensorflow:loss = 444.67865, step = 201 (0.979 sec)\n",
            "INFO:tensorflow:global_step/sec: 102.422\n",
            "INFO:tensorflow:loss = 721.7291, step = 301 (0.977 sec)\n",
            "INFO:tensorflow:global_step/sec: 101.815\n",
            "INFO:tensorflow:loss = 417.92102, step = 401 (0.983 sec)\n",
            "INFO:tensorflow:global_step/sec: 100.929\n",
            "INFO:tensorflow:loss = 412.5637, step = 501 (0.993 sec)\n",
            "INFO:tensorflow:global_step/sec: 100.305\n",
            "INFO:tensorflow:loss = 457.7221, step = 601 (0.996 sec)\n",
            "INFO:tensorflow:global_step/sec: 101.252\n",
            "INFO:tensorflow:loss = 3518.6462, step = 701 (0.988 sec)\n",
            "INFO:tensorflow:global_step/sec: 100.818\n",
            "INFO:tensorflow:loss = 435.00183, step = 801 (0.993 sec)\n",
            "INFO:tensorflow:global_step/sec: 101.11\n",
            "INFO:tensorflow:loss = 454.962, step = 901 (0.985 sec)\n",
            "INFO:tensorflow:global_step/sec: 102.705\n",
            "INFO:tensorflow:loss = 450.70206, step = 1001 (0.973 sec)\n",
            "INFO:tensorflow:global_step/sec: 101.609\n",
            "INFO:tensorflow:loss = 465.50665, step = 1101 (0.986 sec)\n",
            "INFO:tensorflow:global_step/sec: 102.36\n",
            "INFO:tensorflow:loss = 445.98233, step = 1201 (0.979 sec)\n",
            "INFO:tensorflow:global_step/sec: 100.386\n",
            "INFO:tensorflow:loss = 457.02197, step = 1301 (1.000 sec)\n",
            "INFO:tensorflow:global_step/sec: 100.812\n",
            "INFO:tensorflow:loss = 461.741, step = 1401 (0.991 sec)\n",
            "INFO:tensorflow:global_step/sec: 101.296\n",
            "INFO:tensorflow:loss = 459.34747, step = 1501 (0.987 sec)\n",
            "INFO:tensorflow:global_step/sec: 102.15\n",
            "INFO:tensorflow:loss = 453.81882, step = 1601 (0.975 sec)\n",
            "INFO:tensorflow:global_step/sec: 101.999\n",
            "INFO:tensorflow:loss = 442.28784, step = 1701 (0.981 sec)\n",
            "INFO:tensorflow:global_step/sec: 101.53\n",
            "INFO:tensorflow:loss = 457.79544, step = 1801 (0.985 sec)\n",
            "INFO:tensorflow:global_step/sec: 102.073\n",
            "INFO:tensorflow:loss = 445.7271, step = 1901 (0.980 sec)\n",
            "INFO:tensorflow:global_step/sec: 100.992\n",
            "INFO:tensorflow:loss = 456.95493, step = 2001 (0.993 sec)\n",
            "INFO:tensorflow:global_step/sec: 100.743\n",
            "INFO:tensorflow:loss = 445.63422, step = 2101 (0.989 sec)\n",
            "INFO:tensorflow:global_step/sec: 101.033\n",
            "INFO:tensorflow:loss = 465.15204, step = 2201 (0.988 sec)\n",
            "INFO:tensorflow:global_step/sec: 102.146\n",
            "INFO:tensorflow:loss = 458.19208, step = 2301 (0.978 sec)\n",
            "INFO:tensorflow:global_step/sec: 101.897\n",
            "INFO:tensorflow:loss = 461.28766, step = 2401 (0.982 sec)\n",
            "INFO:tensorflow:global_step/sec: 101.788\n",
            "INFO:tensorflow:loss = 449.101, step = 2501 (0.987 sec)\n",
            "INFO:tensorflow:global_step/sec: 101.879\n",
            "INFO:tensorflow:loss = 457.96875, step = 2601 (0.981 sec)\n",
            "INFO:tensorflow:global_step/sec: 100.704\n",
            "INFO:tensorflow:loss = 459.08774, step = 2701 (0.991 sec)\n",
            "INFO:tensorflow:global_step/sec: 101.373\n",
            "INFO:tensorflow:loss = 438.34442, step = 2801 (0.984 sec)\n",
            "INFO:tensorflow:global_step/sec: 100.901\n",
            "INFO:tensorflow:loss = 444.17853, step = 2901 (0.994 sec)\n",
            "INFO:tensorflow:global_step/sec: 100.731\n",
            "INFO:tensorflow:loss = 447.19, step = 3001 (0.994 sec)\n"
          ],
          "name": "stdout"
        },
        {
          "output_type": "stream",
          "text": [
            "INFO:tensorflow:global_step/sec: 101.791\n",
            "INFO:tensorflow:loss = 456.64825, step = 3101 (0.983 sec)\n",
            "INFO:tensorflow:global_step/sec: 101.604\n",
            "INFO:tensorflow:loss = 448.13513, step = 3201 (0.984 sec)\n",
            "INFO:tensorflow:global_step/sec: 100.703\n",
            "INFO:tensorflow:loss = 444.23898, step = 3301 (0.991 sec)\n",
            "INFO:tensorflow:global_step/sec: 100.987\n",
            "INFO:tensorflow:loss = 435.02216, step = 3401 (0.992 sec)\n",
            "INFO:tensorflow:global_step/sec: 99.8\n",
            "INFO:tensorflow:loss = 436.14612, step = 3501 (1.001 sec)\n",
            "INFO:tensorflow:global_step/sec: 99.915\n",
            "INFO:tensorflow:loss = 459.54498, step = 3601 (0.999 sec)\n",
            "INFO:tensorflow:global_step/sec: 101.861\n",
            "INFO:tensorflow:loss = 451.78955, step = 3701 (0.986 sec)\n",
            "INFO:tensorflow:global_step/sec: 99.4292\n",
            "INFO:tensorflow:loss = 457.76392, step = 3801 (1.004 sec)\n",
            "INFO:tensorflow:global_step/sec: 102.593\n",
            "INFO:tensorflow:loss = 455.848, step = 3901 (0.972 sec)\n",
            "INFO:tensorflow:global_step/sec: 99.3785\n",
            "INFO:tensorflow:loss = 2068.7192, step = 4001 (1.009 sec)\n",
            "INFO:tensorflow:global_step/sec: 100.993\n",
            "INFO:tensorflow:loss = 448.11395, step = 4101 (0.987 sec)\n",
            "INFO:tensorflow:global_step/sec: 100.694\n",
            "INFO:tensorflow:loss = 467.748, step = 4201 (0.996 sec)\n",
            "INFO:tensorflow:global_step/sec: 101.374\n",
            "INFO:tensorflow:loss = 452.726, step = 4301 (0.987 sec)\n",
            "INFO:tensorflow:global_step/sec: 100.98\n",
            "INFO:tensorflow:loss = 453.80405, step = 4401 (0.990 sec)\n",
            "INFO:tensorflow:global_step/sec: 99.5596\n",
            "INFO:tensorflow:loss = 448.77704, step = 4501 (1.002 sec)\n",
            "INFO:tensorflow:global_step/sec: 100.696\n",
            "INFO:tensorflow:loss = 450.19913, step = 4601 (0.992 sec)\n",
            "INFO:tensorflow:global_step/sec: 102.021\n",
            "INFO:tensorflow:loss = 442.81744, step = 4701 (0.980 sec)\n",
            "INFO:tensorflow:global_step/sec: 100.985\n",
            "INFO:tensorflow:loss = 436.12256, step = 4801 (0.993 sec)\n",
            "INFO:tensorflow:global_step/sec: 100.128\n",
            "INFO:tensorflow:loss = 452.0595, step = 4901 (0.997 sec)\n",
            "INFO:tensorflow:global_step/sec: 100.086\n",
            "INFO:tensorflow:loss = 442.5849, step = 5001 (1.003 sec)\n",
            "INFO:tensorflow:global_step/sec: 99.9536\n",
            "INFO:tensorflow:loss = 455.23187, step = 5101 (0.997 sec)\n",
            "INFO:tensorflow:global_step/sec: 101.085\n",
            "INFO:tensorflow:loss = 456.58246, step = 5201 (0.993 sec)\n",
            "INFO:tensorflow:global_step/sec: 101.106\n",
            "INFO:tensorflow:loss = 465.03186, step = 5301 (0.986 sec)\n",
            "INFO:tensorflow:global_step/sec: 101.947\n",
            "INFO:tensorflow:loss = 451.73965, step = 5401 (0.982 sec)\n",
            "INFO:tensorflow:global_step/sec: 101.646\n",
            "INFO:tensorflow:loss = 459.76678, step = 5501 (0.985 sec)\n",
            "INFO:tensorflow:global_step/sec: 100.724\n",
            "INFO:tensorflow:loss = 446.0274, step = 5601 (0.996 sec)\n",
            "INFO:tensorflow:global_step/sec: 100.707\n",
            "INFO:tensorflow:loss = 458.98712, step = 5701 (0.991 sec)\n",
            "INFO:tensorflow:global_step/sec: 100.509\n",
            "INFO:tensorflow:loss = 439.59366, step = 5801 (0.994 sec)\n",
            "INFO:tensorflow:global_step/sec: 101.315\n",
            "INFO:tensorflow:loss = 480.60425, step = 5901 (0.988 sec)\n",
            "INFO:tensorflow:global_step/sec: 102.056\n",
            "INFO:tensorflow:loss = 456.41357, step = 6001 (0.981 sec)\n",
            "INFO:tensorflow:global_step/sec: 101.069\n",
            "INFO:tensorflow:loss = 455.23932, step = 6101 (0.993 sec)\n",
            "INFO:tensorflow:global_step/sec: 101.733\n"
          ],
          "name": "stdout"
        },
        {
          "output_type": "stream",
          "text": [
            "INFO:tensorflow:loss = 448.63474, step = 6201 (0.979 sec)\n",
            "INFO:tensorflow:global_step/sec: 102.192\n",
            "INFO:tensorflow:loss = 447.17084, step = 6301 (0.977 sec)\n",
            "INFO:tensorflow:global_step/sec: 102.4\n",
            "INFO:tensorflow:loss = 452.17496, step = 6401 (0.973 sec)\n",
            "INFO:tensorflow:global_step/sec: 101.058\n",
            "INFO:tensorflow:loss = 465.3558, step = 6501 (0.995 sec)\n",
            "INFO:tensorflow:global_step/sec: 100.062\n",
            "INFO:tensorflow:loss = 454.9842, step = 6601 (1.000 sec)\n",
            "INFO:tensorflow:global_step/sec: 101.6\n",
            "INFO:tensorflow:loss = 462.6089, step = 6701 (0.983 sec)\n",
            "INFO:tensorflow:global_step/sec: 101.843\n",
            "INFO:tensorflow:loss = 435.62115, step = 6801 (0.981 sec)\n",
            "INFO:tensorflow:global_step/sec: 100.801\n",
            "INFO:tensorflow:loss = 457.5869, step = 6901 (0.991 sec)\n",
            "INFO:tensorflow:global_step/sec: 101.134\n",
            "INFO:tensorflow:loss = 441.42487, step = 7001 (0.989 sec)\n",
            "INFO:tensorflow:global_step/sec: 99.9276\n",
            "INFO:tensorflow:loss = 448.0948, step = 7101 (1.001 sec)\n",
            "INFO:tensorflow:global_step/sec: 103.175\n",
            "INFO:tensorflow:loss = 452.80972, step = 7201 (0.967 sec)\n",
            "INFO:tensorflow:global_step/sec: 101.723\n",
            "INFO:tensorflow:loss = 464.1508, step = 7301 (0.986 sec)\n",
            "INFO:tensorflow:global_step/sec: 102.495\n",
            "INFO:tensorflow:loss = 463.4051, step = 7401 (0.977 sec)\n",
            "INFO:tensorflow:global_step/sec: 100.064\n",
            "INFO:tensorflow:loss = 460.8815, step = 7501 (0.997 sec)\n",
            "INFO:tensorflow:global_step/sec: 101.551\n",
            "INFO:tensorflow:loss = 460.3034, step = 7601 (0.984 sec)\n",
            "INFO:tensorflow:global_step/sec: 101.404\n",
            "INFO:tensorflow:loss = 460.80844, step = 7701 (0.987 sec)\n",
            "INFO:tensorflow:global_step/sec: 100.891\n",
            "INFO:tensorflow:loss = 452.00092, step = 7801 (0.992 sec)\n",
            "INFO:tensorflow:global_step/sec: 100.83\n",
            "INFO:tensorflow:loss = 444.4098, step = 7901 (0.992 sec)\n",
            "INFO:tensorflow:global_step/sec: 101.217\n",
            "INFO:tensorflow:loss = 452.8778, step = 8001 (0.990 sec)\n",
            "INFO:tensorflow:global_step/sec: 101.131\n",
            "INFO:tensorflow:loss = 445.6687, step = 8101 (0.989 sec)\n",
            "INFO:tensorflow:global_step/sec: 100.794\n",
            "INFO:tensorflow:loss = 447.9408, step = 8201 (0.991 sec)\n",
            "INFO:tensorflow:global_step/sec: 102.204\n",
            "INFO:tensorflow:loss = 451.1032, step = 8301 (0.975 sec)\n",
            "INFO:tensorflow:global_step/sec: 102.308\n",
            "INFO:tensorflow:loss = 444.48944, step = 8401 (0.982 sec)\n",
            "INFO:tensorflow:global_step/sec: 100.572\n",
            "INFO:tensorflow:loss = 452.69598, step = 8501 (0.990 sec)\n",
            "INFO:tensorflow:global_step/sec: 102.009\n",
            "INFO:tensorflow:loss = 458.00443, step = 8601 (0.985 sec)\n",
            "INFO:tensorflow:global_step/sec: 101\n",
            "INFO:tensorflow:loss = 459.28192, step = 8701 (0.989 sec)\n",
            "INFO:tensorflow:global_step/sec: 101.235\n",
            "INFO:tensorflow:loss = 469.82904, step = 8801 (0.988 sec)\n",
            "INFO:tensorflow:global_step/sec: 102.053\n",
            "INFO:tensorflow:loss = 444.43683, step = 8901 (0.980 sec)\n",
            "INFO:tensorflow:global_step/sec: 101.527\n",
            "INFO:tensorflow:loss = 454.19562, step = 9001 (0.985 sec)\n",
            "INFO:tensorflow:global_step/sec: 101.181\n",
            "INFO:tensorflow:loss = 451.216, step = 9101 (0.984 sec)\n",
            "INFO:tensorflow:global_step/sec: 100.534\n",
            "INFO:tensorflow:loss = 465.64807, step = 9201 (0.995 sec)\n",
            "INFO:tensorflow:global_step/sec: 99.2856\n",
            "INFO:tensorflow:loss = 451.23822, step = 9301 (1.007 sec)\n"
          ],
          "name": "stdout"
        },
        {
          "output_type": "stream",
          "text": [
            "INFO:tensorflow:global_step/sec: 101.51\n",
            "INFO:tensorflow:loss = 449.4563, step = 9401 (0.988 sec)\n",
            "INFO:tensorflow:global_step/sec: 101.191\n",
            "INFO:tensorflow:loss = 486.21802, step = 9501 (0.989 sec)\n",
            "INFO:tensorflow:global_step/sec: 101.579\n",
            "INFO:tensorflow:loss = 456.77325, step = 9601 (0.987 sec)\n",
            "INFO:tensorflow:global_step/sec: 99.5632\n",
            "INFO:tensorflow:loss = 457.97723, step = 9701 (1.002 sec)\n",
            "INFO:tensorflow:global_step/sec: 98.9393\n",
            "INFO:tensorflow:loss = 445.48895, step = 9801 (1.007 sec)\n",
            "INFO:tensorflow:global_step/sec: 98.574\n",
            "INFO:tensorflow:loss = 449.77466, step = 9901 (1.015 sec)\n",
            "INFO:tensorflow:global_step/sec: 100.947\n",
            "INFO:tensorflow:loss = 458.60608, step = 10001 (0.992 sec)\n",
            "INFO:tensorflow:global_step/sec: 101.321\n",
            "INFO:tensorflow:loss = 451.67697, step = 10101 (0.988 sec)\n",
            "INFO:tensorflow:global_step/sec: 101.556\n",
            "INFO:tensorflow:loss = 460.4077, step = 10201 (0.982 sec)\n",
            "INFO:tensorflow:global_step/sec: 100.533\n",
            "INFO:tensorflow:loss = 459.25574, step = 10301 (0.998 sec)\n",
            "INFO:tensorflow:global_step/sec: 100.557\n",
            "INFO:tensorflow:loss = 448.4724, step = 10401 (0.994 sec)\n",
            "INFO:tensorflow:global_step/sec: 101.604\n",
            "INFO:tensorflow:loss = 448.82663, step = 10501 (0.984 sec)\n",
            "INFO:tensorflow:global_step/sec: 100.659\n",
            "INFO:tensorflow:loss = 455.9424, step = 10601 (0.995 sec)\n",
            "INFO:tensorflow:global_step/sec: 101.41\n",
            "INFO:tensorflow:loss = 446.8116, step = 10701 (0.984 sec)\n",
            "INFO:tensorflow:global_step/sec: 102.081\n",
            "INFO:tensorflow:loss = 452.35895, step = 10801 (0.979 sec)\n",
            "INFO:tensorflow:global_step/sec: 100.036\n",
            "INFO:tensorflow:loss = 454.8206, step = 10901 (0.998 sec)\n",
            "INFO:tensorflow:global_step/sec: 102.224\n",
            "INFO:tensorflow:loss = 458.70862, step = 11001 (0.980 sec)\n",
            "INFO:tensorflow:global_step/sec: 100.628\n",
            "INFO:tensorflow:loss = 457.0549, step = 11101 (0.994 sec)\n",
            "INFO:tensorflow:global_step/sec: 101.689\n",
            "INFO:tensorflow:loss = 447.28802, step = 11201 (0.984 sec)\n",
            "INFO:tensorflow:global_step/sec: 100.872\n",
            "INFO:tensorflow:loss = 454.21228, step = 11301 (0.991 sec)\n",
            "INFO:tensorflow:global_step/sec: 99.8003\n",
            "INFO:tensorflow:loss = 463.6905, step = 11401 (1.002 sec)\n",
            "INFO:tensorflow:global_step/sec: 101.556\n",
            "INFO:tensorflow:loss = 451.70007, step = 11501 (0.986 sec)\n",
            "INFO:tensorflow:global_step/sec: 101.817\n",
            "INFO:tensorflow:loss = 455.36246, step = 11601 (0.983 sec)\n",
            "INFO:tensorflow:global_step/sec: 102.19\n",
            "INFO:tensorflow:loss = 429.02188, step = 11701 (0.977 sec)\n",
            "INFO:tensorflow:global_step/sec: 101.879\n",
            "INFO:tensorflow:loss = 438.76703, step = 11801 (0.983 sec)\n",
            "INFO:tensorflow:global_step/sec: 100.508\n",
            "INFO:tensorflow:loss = 456.22922, step = 11901 (0.994 sec)\n",
            "INFO:tensorflow:global_step/sec: 99.9862\n",
            "INFO:tensorflow:loss = 464.73734, step = 12001 (0.997 sec)\n",
            "INFO:tensorflow:global_step/sec: 101.554\n",
            "INFO:tensorflow:loss = 452.14972, step = 12101 (0.986 sec)\n",
            "INFO:tensorflow:global_step/sec: 101.757\n",
            "INFO:tensorflow:loss = 462.0221, step = 12201 (0.982 sec)\n",
            "INFO:tensorflow:global_step/sec: 101.993\n",
            "INFO:tensorflow:loss = 448.00275, step = 12301 (0.984 sec)\n",
            "INFO:tensorflow:global_step/sec: 101.137\n",
            "INFO:tensorflow:loss = 450.60242, step = 12401 (0.990 sec)\n",
            "INFO:tensorflow:global_step/sec: 100.875\n"
          ],
          "name": "stdout"
        },
        {
          "output_type": "stream",
          "text": [
            "INFO:tensorflow:loss = 456.5578, step = 12501 (0.985 sec)\n",
            "INFO:tensorflow:global_step/sec: 101.885\n",
            "INFO:tensorflow:loss = 455.58948, step = 12601 (0.982 sec)\n",
            "INFO:tensorflow:global_step/sec: 101.843\n",
            "INFO:tensorflow:loss = 436.35464, step = 12701 (0.985 sec)\n",
            "INFO:tensorflow:global_step/sec: 101.4\n",
            "INFO:tensorflow:loss = 454.87988, step = 12801 (0.987 sec)\n",
            "INFO:tensorflow:global_step/sec: 99.078\n",
            "INFO:tensorflow:loss = 445.70148, step = 12901 (1.009 sec)\n",
            "INFO:tensorflow:global_step/sec: 101.265\n",
            "INFO:tensorflow:loss = 457.07825, step = 13001 (0.988 sec)\n",
            "INFO:tensorflow:global_step/sec: 101.384\n",
            "INFO:tensorflow:loss = 451.10703, step = 13101 (0.983 sec)\n",
            "INFO:tensorflow:global_step/sec: 101.586\n",
            "INFO:tensorflow:loss = 458.66473, step = 13201 (0.987 sec)\n",
            "INFO:tensorflow:global_step/sec: 101.725\n",
            "INFO:tensorflow:loss = 457.00604, step = 13301 (0.982 sec)\n",
            "INFO:tensorflow:global_step/sec: 102.396\n",
            "INFO:tensorflow:loss = 455.55426, step = 13401 (0.979 sec)\n",
            "INFO:tensorflow:global_step/sec: 101.658\n",
            "INFO:tensorflow:loss = 450.52246, step = 13501 (0.982 sec)\n",
            "INFO:tensorflow:global_step/sec: 101.891\n",
            "INFO:tensorflow:loss = 460.45844, step = 13601 (0.979 sec)\n",
            "INFO:tensorflow:global_step/sec: 102.669\n",
            "INFO:tensorflow:loss = 460.54358, step = 13701 (0.976 sec)\n",
            "INFO:tensorflow:global_step/sec: 102.421\n",
            "INFO:tensorflow:loss = 452.19836, step = 13801 (0.980 sec)\n",
            "INFO:tensorflow:global_step/sec: 103.259\n",
            "INFO:tensorflow:loss = 447.10193, step = 13901 (0.967 sec)\n",
            "INFO:tensorflow:global_step/sec: 100.658\n",
            "INFO:tensorflow:loss = 460.80048, step = 14001 (0.996 sec)\n",
            "INFO:tensorflow:global_step/sec: 100.602\n",
            "INFO:tensorflow:loss = 456.89142, step = 14101 (0.989 sec)\n",
            "INFO:tensorflow:global_step/sec: 101.356\n",
            "INFO:tensorflow:loss = 445.11145, step = 14201 (0.989 sec)\n",
            "INFO:tensorflow:global_step/sec: 102.243\n",
            "INFO:tensorflow:loss = 462.08368, step = 14301 (0.976 sec)\n",
            "INFO:tensorflow:global_step/sec: 103.435\n",
            "INFO:tensorflow:loss = 440.13052, step = 14401 (0.971 sec)\n",
            "INFO:tensorflow:global_step/sec: 102.87\n",
            "INFO:tensorflow:loss = 467.08862, step = 14501 (0.976 sec)\n",
            "INFO:tensorflow:global_step/sec: 99.937\n",
            "INFO:tensorflow:loss = 455.88458, step = 14601 (0.994 sec)\n",
            "INFO:tensorflow:global_step/sec: 101.765\n",
            "INFO:tensorflow:loss = 450.05347, step = 14701 (0.983 sec)\n",
            "INFO:tensorflow:global_step/sec: 102.37\n",
            "INFO:tensorflow:loss = 460.29938, step = 14801 (0.979 sec)\n",
            "INFO:tensorflow:global_step/sec: 102.296\n",
            "INFO:tensorflow:loss = 447.9434, step = 14901 (0.973 sec)\n",
            "INFO:tensorflow:global_step/sec: 101.328\n",
            "INFO:tensorflow:loss = 433.91248, step = 15001 (0.991 sec)\n",
            "INFO:tensorflow:global_step/sec: 101.017\n",
            "INFO:tensorflow:loss = 447.22327, step = 15101 (0.986 sec)\n",
            "INFO:tensorflow:global_step/sec: 102.13\n",
            "INFO:tensorflow:loss = 449.64737, step = 15201 (0.981 sec)\n",
            "INFO:tensorflow:global_step/sec: 101.83\n",
            "INFO:tensorflow:loss = 454.56, step = 15301 (0.980 sec)\n",
            "INFO:tensorflow:global_step/sec: 102.679\n",
            "INFO:tensorflow:loss = 455.5735, step = 15401 (0.976 sec)\n",
            "INFO:tensorflow:global_step/sec: 102.484\n",
            "INFO:tensorflow:loss = 462.93234, step = 15501 (0.978 sec)\n",
            "INFO:tensorflow:global_step/sec: 101.245\n"
          ],
          "name": "stdout"
        },
        {
          "output_type": "stream",
          "text": [
            "INFO:tensorflow:loss = 442.86334, step = 15601 (0.985 sec)\n",
            "INFO:tensorflow:global_step/sec: 100.495\n",
            "INFO:tensorflow:loss = 436.68628, step = 15701 (0.994 sec)\n",
            "INFO:tensorflow:global_step/sec: 102.151\n",
            "INFO:tensorflow:loss = 454.651, step = 15801 (0.981 sec)\n",
            "INFO:tensorflow:global_step/sec: 101.946\n",
            "INFO:tensorflow:loss = 448.22043, step = 15901 (0.983 sec)\n",
            "INFO:tensorflow:global_step/sec: 101.609\n",
            "INFO:tensorflow:loss = 470.06702, step = 16001 (0.983 sec)\n",
            "INFO:tensorflow:global_step/sec: 102.763\n",
            "INFO:tensorflow:loss = 436.3468, step = 16101 (0.974 sec)\n",
            "INFO:tensorflow:global_step/sec: 99.1912\n",
            "INFO:tensorflow:loss = 455.99585, step = 16201 (1.006 sec)\n",
            "INFO:tensorflow:global_step/sec: 102.091\n",
            "INFO:tensorflow:loss = 453.8816, step = 16301 (0.978 sec)\n",
            "INFO:tensorflow:global_step/sec: 102.768\n",
            "INFO:tensorflow:loss = 455.3573, step = 16401 (0.976 sec)\n",
            "INFO:tensorflow:global_step/sec: 102.056\n",
            "INFO:tensorflow:loss = 460.9629, step = 16501 (0.977 sec)\n",
            "INFO:tensorflow:global_step/sec: 102.206\n",
            "INFO:tensorflow:loss = 431.77475, step = 16601 (0.980 sec)\n",
            "INFO:tensorflow:global_step/sec: 100.967\n",
            "INFO:tensorflow:loss = 451.586, step = 16701 (0.993 sec)\n",
            "INFO:tensorflow:global_step/sec: 101.758\n",
            "INFO:tensorflow:loss = 433.59167, step = 16801 (0.980 sec)\n",
            "INFO:tensorflow:global_step/sec: 102.63\n",
            "INFO:tensorflow:loss = 455.48218, step = 16901 (0.972 sec)\n",
            "INFO:tensorflow:global_step/sec: 101.835\n",
            "INFO:tensorflow:loss = 438.9737, step = 17001 (0.984 sec)\n",
            "INFO:tensorflow:global_step/sec: 101.68\n",
            "INFO:tensorflow:loss = 447.80682, step = 17101 (0.986 sec)\n",
            "INFO:tensorflow:global_step/sec: 102.134\n",
            "INFO:tensorflow:loss = 451.98706, step = 17201 (0.979 sec)\n",
            "INFO:tensorflow:global_step/sec: 99.5638\n",
            "INFO:tensorflow:loss = 449.63626, step = 17301 (1.002 sec)\n",
            "INFO:tensorflow:global_step/sec: 103.503\n",
            "INFO:tensorflow:loss = 455.74982, step = 17401 (0.967 sec)\n",
            "INFO:tensorflow:global_step/sec: 103.233\n",
            "INFO:tensorflow:loss = 459.7103, step = 17501 (0.967 sec)\n",
            "INFO:tensorflow:global_step/sec: 100.971\n",
            "INFO:tensorflow:loss = 448.12088, step = 17601 (0.993 sec)\n",
            "INFO:tensorflow:global_step/sec: 101.83\n",
            "INFO:tensorflow:loss = 456.5598, step = 17701 (0.982 sec)\n",
            "INFO:tensorflow:global_step/sec: 101.348\n",
            "INFO:tensorflow:loss = 432.53723, step = 17801 (0.984 sec)\n",
            "INFO:tensorflow:global_step/sec: 102.16\n",
            "INFO:tensorflow:loss = 462.01923, step = 17901 (0.982 sec)\n",
            "INFO:tensorflow:global_step/sec: 101.411\n",
            "INFO:tensorflow:loss = 440.97015, step = 18001 (0.985 sec)\n",
            "INFO:tensorflow:global_step/sec: 101.394\n",
            "INFO:tensorflow:loss = 467.00806, step = 18101 (0.986 sec)\n",
            "INFO:tensorflow:global_step/sec: 99.7128\n",
            "INFO:tensorflow:loss = 446.07178, step = 18201 (1.006 sec)\n",
            "INFO:tensorflow:global_step/sec: 99.7806\n",
            "INFO:tensorflow:loss = 466.64734, step = 18301 (0.997 sec)\n",
            "INFO:tensorflow:global_step/sec: 101.801\n",
            "INFO:tensorflow:loss = 432.91498, step = 18401 (0.983 sec)\n",
            "INFO:tensorflow:global_step/sec: 102.474\n",
            "INFO:tensorflow:loss = 436.8564, step = 18501 (0.977 sec)\n",
            "INFO:tensorflow:global_step/sec: 102.563\n",
            "INFO:tensorflow:loss = 454.09668, step = 18601 (0.981 sec)\n",
            "INFO:tensorflow:global_step/sec: 101.168\n"
          ],
          "name": "stdout"
        },
        {
          "output_type": "stream",
          "text": [
            "INFO:tensorflow:loss = 454.67484, step = 18701 (0.984 sec)\n",
            "INFO:tensorflow:global_step/sec: 101.792\n",
            "INFO:tensorflow:loss = 456.8372, step = 18801 (0.981 sec)\n",
            "INFO:tensorflow:global_step/sec: 101.286\n",
            "INFO:tensorflow:loss = 443.42734, step = 18901 (0.987 sec)\n",
            "INFO:tensorflow:global_step/sec: 102.18\n",
            "INFO:tensorflow:loss = 454.148, step = 19001 (0.979 sec)\n",
            "INFO:tensorflow:global_step/sec: 102.619\n",
            "INFO:tensorflow:loss = 458.63397, step = 19101 (0.980 sec)\n",
            "INFO:tensorflow:global_step/sec: 101.62\n",
            "INFO:tensorflow:loss = 450.8733, step = 19201 (0.981 sec)\n",
            "INFO:tensorflow:global_step/sec: 101.982\n",
            "INFO:tensorflow:loss = 450.22986, step = 19301 (0.980 sec)\n",
            "INFO:tensorflow:global_step/sec: 100.339\n",
            "INFO:tensorflow:loss = 439.66895, step = 19401 (0.997 sec)\n",
            "INFO:tensorflow:global_step/sec: 102.704\n",
            "INFO:tensorflow:loss = 443.2223, step = 19501 (0.973 sec)\n",
            "INFO:tensorflow:global_step/sec: 102.464\n",
            "INFO:tensorflow:loss = 459.6831, step = 19601 (0.975 sec)\n",
            "INFO:tensorflow:global_step/sec: 101.443\n",
            "INFO:tensorflow:loss = 460.22977, step = 19701 (0.987 sec)\n",
            "INFO:tensorflow:global_step/sec: 101.856\n",
            "INFO:tensorflow:loss = 457.02185, step = 19801 (0.982 sec)\n",
            "INFO:tensorflow:global_step/sec: 101.446\n",
            "INFO:tensorflow:loss = 456.20374, step = 19901 (0.987 sec)\n",
            "INFO:tensorflow:Saving checkpoints for 20000 into /tmp/tmp_m1lkxou/model.ckpt.\n",
            "INFO:tensorflow:Loss for final step: 442.04028.\n"
          ],
          "name": "stdout"
        },
        {
          "output_type": "execute_result",
          "data": {
            "text/plain": [
              "<tensorflow.python.estimator.canned.dnn.DNNClassifier at 0x7f44e4a71be0>"
            ]
          },
          "metadata": {
            "tags": []
          },
          "execution_count": 22
        }
      ]
    },
    {
      "metadata": {
        "id": "CaclJfMD8QuC",
        "colab_type": "code",
        "colab": {
          "autoexec": {
            "startup": false,
            "wait_interval": 0
          },
          "output_extras": [
            {
              "item_id": 4
            }
          ],
          "base_uri": "https://localhost:8080/",
          "height": 85
        },
        "outputId": "be379429-e125-42f4-9ce7-491ec2d5c8ae",
        "executionInfo": {
          "status": "ok",
          "timestamp": 1516734283515,
          "user_tz": -330,
          "elapsed": 13589,
          "user": {
            "displayName": "SNADIG CP",
            "photoUrl": "https://lh3.googleusercontent.com/a/default-user=s128",
            "userId": "111186448378047970223"
          }
        }
      },
      "cell_type": "code",
      "source": [
        "accuracy_score = classifier.evaluate(input_fn=test_input_fn)[\"accuracy\"]"
      ],
      "execution_count": 23,
      "outputs": [
        {
          "output_type": "stream",
          "text": [
            "INFO:tensorflow:Starting evaluation at 2018-01-23-19:04:30\n",
            "INFO:tensorflow:Restoring parameters from /tmp/tmp_m1lkxou/model.ckpt-20000\n",
            "INFO:tensorflow:Finished evaluation at 2018-01-23-19:04:43\n",
            "INFO:tensorflow:Saving dict for global step 20000: accuracy = 0.12997317, average_loss = 3.5390096, global_step = 20000, loss = 452.98346\n"
          ],
          "name": "stdout"
        }
      ]
    },
    {
      "metadata": {
        "id": "OGl-dPTu8S2i",
        "colab_type": "code",
        "colab": {
          "autoexec": {
            "startup": false,
            "wait_interval": 0
          },
          "output_extras": [
            {
              "item_id": 1
            }
          ],
          "base_uri": "https://localhost:8080/",
          "height": 68
        },
        "outputId": "eeaf8a6a-c741-48f9-eb79-ece5f9438447",
        "executionInfo": {
          "status": "ok",
          "timestamp": 1516734284394,
          "user_tz": -330,
          "elapsed": 841,
          "user": {
            "displayName": "SNADIG CP",
            "photoUrl": "https://lh3.googleusercontent.com/a/default-user=s128",
            "userId": "111186448378047970223"
          }
        }
      },
      "cell_type": "code",
      "source": [
        "print(\"\\nTest Accuracy: {0:f}\\n\".format(accuracy_score))"
      ],
      "execution_count": 24,
      "outputs": [
        {
          "output_type": "stream",
          "text": [
            "\n",
            "Test Accuracy: 0.129973\n",
            "\n"
          ],
          "name": "stdout"
        }
      ]
    }
  ]
}