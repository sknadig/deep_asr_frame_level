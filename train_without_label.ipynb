{
 "cells": [
  {
   "cell_type": "code",
   "execution_count": 1,
   "metadata": {
    "collapsed": true
   },
   "outputs": [],
   "source": [
    "import pandas as pd\n",
    "import re\n",
    "import numpy as np"
   ]
  },
  {
   "cell_type": "code",
   "execution_count": 2,
   "metadata": {
    "collapsed": true
   },
   "outputs": [],
   "source": [
    "timit_df = pd.DataFrame(columns=[\"speaker_id\", \"sentence_id\", \"frame_number\", \"use\", \"feature_vector\", \"label\"])"
   ]
  },
  {
   "cell_type": "code",
   "execution_count": 3,
   "metadata": {
    "collapsed": true
   },
   "outputs": [],
   "source": [
    "with open(\"temp.ark\") as train_feats:\n",
    "    train_features = train_feats.readlines()"
   ]
  },
  {
   "cell_type": "code",
   "execution_count": 4,
   "metadata": {
    "collapsed": true
   },
   "outputs": [],
   "source": [
    "frame_number = 1\n",
    "use = \"train\"\n",
    "dummy_np = []\n",
    "for line in train_features:\n",
    "    line = re.sub(\" \\[\", \"\", line.strip())\n",
    "    line = re.sub(\" \\]\", \"\", line.strip())\n",
    "    if(\"_\" in line):\n",
    "        speaker_id, sentence_id = line.split(\"_\")\n",
    "        frame_number = 1\n",
    "    else:\n",
    "        mfcc = [float(ele) for ele in line.split(\" \")]\n",
    "        dummy_np.append([speaker_id, sentence_id, frame_number, use, mfcc, \"None\"])\n",
    "        frame_number += 1"
   ]
  },
  {
   "cell_type": "code",
   "execution_count": 5,
   "metadata": {
    "collapsed": true
   },
   "outputs": [],
   "source": [
    "speaker_ids = [ele[0] for ele in dummy_np]\n",
    "sentence_ids = [ele[1] for ele in dummy_np]\n",
    "frame_numbers = [ele[2] for ele in dummy_np]\n",
    "use = [ele[3] for ele in dummy_np]\n",
    "features = [ele[4] for ele in dummy_np]\n",
    "label = [ele[5] for ele in dummy_np]"
   ]
  },
  {
   "cell_type": "code",
   "execution_count": 6,
   "metadata": {},
   "outputs": [
    {
     "data": {
      "text/plain": [
       "3328"
      ]
     },
     "execution_count": 6,
     "metadata": {},
     "output_type": "execute_result"
    }
   ],
   "source": [
    "frame_numbers.count(1)"
   ]
  },
  {
   "cell_type": "code",
   "execution_count": 7,
   "metadata": {},
   "outputs": [
    {
     "data": {
      "text/plain": [
       "1013052"
      ]
     },
     "execution_count": 7,
     "metadata": {},
     "output_type": "execute_result"
    }
   ],
   "source": [
    "len(label)"
   ]
  },
  {
   "cell_type": "code",
   "execution_count": 8,
   "metadata": {
    "collapsed": true
   },
   "outputs": [],
   "source": [
    "timit_df[\"speaker_id\"] = speaker_ids\n",
    "timit_df[\"sentence_id\"] = sentence_ids \n",
    "timit_df[\"frame_number\"] = frame_numbers\n",
    "timit_df[\"use\"] = use \n",
    "timit_df[\"feature_vector\"] = features\n",
    "timit_df[\"label\"] = label"
   ]
  },
  {
   "cell_type": "code",
   "execution_count": 9,
   "metadata": {},
   "outputs": [
    {
     "data": {
      "text/plain": [
       "speaker_id                                                    FAEM0\n",
       "sentence_id                                                  SI1392\n",
       "frame_number                                                      1\n",
       "use                                                           train\n",
       "feature_vector    [-5.370097, -1.755859, -3.056078, 0.3050363, 1...\n",
       "label                                                          None\n",
       "Name: 0, dtype: object"
      ]
     },
     "execution_count": 9,
     "metadata": {},
     "output_type": "execute_result"
    }
   ],
   "source": [
    "timit_df.loc[0]"
   ]
  },
  {
   "cell_type": "code",
   "execution_count": 10,
   "metadata": {
    "collapsed": true
   },
   "outputs": [],
   "source": [
    "timit_df.to_pickle(\"transformed_train.pkl\")"
   ]
  },
  {
   "cell_type": "code",
   "execution_count": 14,
   "metadata": {},
   "outputs": [
    {
     "data": {
      "text/plain": [
       "40"
      ]
     },
     "execution_count": 14,
     "metadata": {},
     "output_type": "execute_result"
    }
   ],
   "source": [
    "len(timit_df[\"feature_vector\"][0])"
   ]
  }
 ],
 "metadata": {
  "kernelspec": {
   "display_name": "Python 3",
   "language": "python",
   "name": "python3"
  },
  "language_info": {
   "codemirror_mode": {
    "name": "ipython",
    "version": 3
   },
   "file_extension": ".py",
   "mimetype": "text/x-python",
   "name": "python",
   "nbconvert_exporter": "python",
   "pygments_lexer": "ipython3",
   "version": "3.6.3"
  }
 },
 "nbformat": 4,
 "nbformat_minor": 2
}
