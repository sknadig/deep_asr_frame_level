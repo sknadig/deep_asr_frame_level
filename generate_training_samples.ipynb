{
 "cells": [
  {
   "cell_type": "code",
   "execution_count": 1,
   "metadata": {
    "collapsed": true
   },
   "outputs": [],
   "source": [
    "import pandas as pd\n",
    "import numpy as np"
   ]
  },
  {
   "cell_type": "code",
   "execution_count": 2,
   "metadata": {
    "collapsed": true
   },
   "outputs": [],
   "source": [
    "feats = [pd.read_pickle(\"raw_feats.pkl\")]\n",
    "labels = [pd.read_pickle(\"raw_labels.pkl\")]\n",
    "df = pd.merge(feats[0], labels[0],  how='inner', left_on=['speaker_id','sentence_id', 'frame_number'], right_on = ['speaker_id','sentence_id', 'frame_number'])\n",
    "del feats\n",
    "del labels"
   ]
  },
  {
   "cell_type": "code",
   "execution_count": 3,
   "metadata": {
    "collapsed": true
   },
   "outputs": [],
   "source": [
    "df = df.drop(\"label_x\", 1)\n",
    "df = df.drop(\"use_x\", 1)\n",
    "df.columns = [\"speaker_id\", \"sentence_id\", \"frame_number\", \"feature_vector\", \"use\", \"label\"]"
   ]
  },
  {
   "cell_type": "code",
   "execution_count": 4,
   "metadata": {
    "collapsed": true
   },
   "outputs": [],
   "source": [
    "# sampled_df = df.sample(frac=1)"
   ]
  },
  {
   "cell_type": "code",
   "execution_count": 5,
   "metadata": {
    "collapsed": true
   },
   "outputs": [],
   "source": [
    "# sampled_df.to_pickle(\"sampled_dataset2.pkl\")"
   ]
  },
  {
   "cell_type": "code",
   "execution_count": 6,
   "metadata": {
    "collapsed": true
   },
   "outputs": [],
   "source": [
    "f = df[\"feature_vector\"].as_matrix()"
   ]
  },
  {
   "cell_type": "code",
   "execution_count": 9,
   "metadata": {},
   "outputs": [],
   "source": [
    "l = df[\"label\"].as_matrix()"
   ]
  },
  {
   "cell_type": "code",
   "execution_count": 18,
   "metadata": {},
   "outputs": [],
   "source": [
    "f2 = np.asanyarray([np.asanyarray(ele) for ele in f])"
   ]
  },
  {
   "cell_type": "code",
   "execution_count": 19,
   "metadata": {},
   "outputs": [
    {
     "data": {
      "text/plain": [
       "array([[-5.370097 , -1.755859 , -3.056078 , ..., -0.1866129,  0.5659522,\n",
       "         0.7103813],\n",
       "       [-5.370097 , -1.755859 , -3.056078 , ...,  0.2191311, -0.5692079,\n",
       "         0.2131736],\n",
       "       [-5.370097 , -1.755859 , -3.056078 , ..., -0.2782325, -1.042647 ,\n",
       "        -0.3879292],\n",
       "       ..., \n",
       "       [-2.996099 , -3.095949 , -0.4851457, ..., -2.054851 ,  0.3443308,\n",
       "         0.6910138],\n",
       "       [-3.424351 , -3.127215 , -0.5900419, ..., -2.054851 ,  0.3443308,\n",
       "         0.6910138],\n",
       "       [-3.757435 , -2.845822 , -0.6599728, ..., -2.054851 ,  0.3443308,\n",
       "         0.6910138]])"
      ]
     },
     "execution_count": 19,
     "metadata": {},
     "output_type": "execute_result"
    }
   ],
   "source": [
    "f2"
   ]
  },
  {
   "cell_type": "code",
   "execution_count": 27,
   "metadata": {},
   "outputs": [],
   "source": [
    "import joblib"
   ]
  },
  {
   "cell_type": "code",
   "execution_count": 28,
   "metadata": {},
   "outputs": [],
   "source": [
    "joblib.dump(f2, open(\"features_float32.pkl\", \"wb\"))"
   ]
  },
  {
   "cell_type": "code",
   "execution_count": 30,
   "metadata": {
    "collapsed": true
   },
   "outputs": [],
   "source": [
    "l2 = np.asanyarray([np.asanyarray(ele) for ele in l])"
   ]
  },
  {
   "cell_type": "code",
   "execution_count": 32,
   "metadata": {
    "collapsed": true
   },
   "outputs": [],
   "source": [
    "joblib.dump(l2, open(\"labels_int16.pkl\", \"wb\"))"
   ]
  },
  {
   "cell_type": "code",
   "execution_count": null,
   "metadata": {
    "collapsed": true
   },
   "outputs": [],
   "source": []
  }
 ],
 "metadata": {
  "kernelspec": {
   "display_name": "Python 3",
   "language": "python",
   "name": "python3"
  },
  "language_info": {
   "codemirror_mode": {
    "name": "ipython",
    "version": 3
   },
   "file_extension": ".py",
   "mimetype": "text/x-python",
   "name": "python",
   "nbconvert_exporter": "python",
   "pygments_lexer": "ipython3",
   "version": "3.6.3"
  }
 },
 "nbformat": 4,
 "nbformat_minor": 2
}
