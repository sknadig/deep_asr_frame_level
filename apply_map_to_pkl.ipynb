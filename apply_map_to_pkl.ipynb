{
 "cells": [
  {
   "cell_type": "code",
   "execution_count": 1,
   "metadata": {
    "collapsed": true
   },
   "outputs": [],
   "source": [
    "import pandas as pd\n",
    "import numpy as np\n",
    "import re"
   ]
  },
  {
   "cell_type": "code",
   "execution_count": 2,
   "metadata": {
    "collapsed": true
   },
   "outputs": [],
   "source": [
    "phone_map = pd.read_pickle(\"phone_map_1944_to_48.pkl\")\n",
    "timit_data = pd.read_pickle(\"new_features.pkl\")"
   ]
  },
  {
   "cell_type": "code",
   "execution_count": 3,
   "metadata": {
    "collapsed": true
   },
   "outputs": [],
   "source": [
    "timit_labels = timit_data[\"label\"]"
   ]
  },
  {
   "cell_type": "code",
   "execution_count": 4,
   "metadata": {
    "collapsed": true
   },
   "outputs": [],
   "source": [
    "mapped_labels = phone_map[\"map\"]"
   ]
  },
  {
   "cell_type": "code",
   "execution_count": 5,
   "metadata": {
    "collapsed": true
   },
   "outputs": [],
   "source": [
    "# for i in range(len(timit_labels)):\n",
    "#     for j in range(len(mapped_labels)):\n",
    "#         if(timit_labels[i] in mapped_labels[j]):\n",
    "#             timit_labels[i] = j"
   ]
  },
  {
   "cell_type": "code",
   "execution_count": 6,
   "metadata": {
    "collapsed": true
   },
   "outputs": [],
   "source": [
    "def append_features(Xtrain):\n",
    "    new_Xtrain = []\n",
    "    zero_array = np.zeros((1,40))[0]\n",
    "    for i in range(len(Xtrain)-6):\n",
    "      if(i==0):\n",
    "        new_Xtrain.append(np.hstack((zero_array,zero_array,zero_array,zero_array,Xtrain[i],Xtrain[i+1],Xtrain[i+2],Xtrain[i+3],Xtrain[i+4])))\n",
    "      elif(i==1):\n",
    "        new_Xtrain.append(np.hstack((zero_array,zero_array,zero_array,Xtrain[i-1],Xtrain[i],Xtrain[i+1],Xtrain[i+2],Xtrain[i+3],Xtrain[i+4])))\n",
    "      elif(i==2):\n",
    "        new_Xtrain.append(np.hstack((zero_array,zero_array,Xtrain[i-2],Xtrain[i-1],Xtrain[i],Xtrain[i+1],Xtrain[i+2],Xtrain[i+3],Xtrain[i+4])))\n",
    "      elif(i==3):\n",
    "        new_Xtrain.append(np.hstack((np.zeros((1,1*40))[0],Xtrain[i-3],Xtrain[i-2],Xtrain[i-1],Xtrain[i],Xtrain[i+1],Xtrain[i+2],Xtrain[i+3],Xtrain[i+4])))\n",
    "\n",
    "      elif(i==len(Xtrain-4)):\n",
    "        new_Xtrain.append(np.hstack((Xtrain[i-4],Xtrain[i-3],Xtrain[i-2],Xtrain[i-1],Xtrain[i],Xtrain[i+1],Xtrain[i+2],Xtrain[i+3],np.zeros((1,1*40))[0])))\n",
    "      elif(i==len(Xtrain-3)):\n",
    "        new_Xtrain.append(np.hstack((Xtrain[i-4],Xtrain[i-3],Xtrain[i-2],Xtrain[i-1],Xtrain[i],Xtrain[i+1],Xtrain[i+2],zero_array,zero_array)))\n",
    "      elif(i==len(Xtrain-2)):\n",
    "        new_Xtrain.append(np.hstack((Xtrain[i-4],Xtrain[i-3],Xtrain[i-2],Xtrain[i-1],Xtrain[i],Xtrain[i+1],zero_array,zero_array,zero_array)))\n",
    "      elif(i==len(Xtrain-1)):\n",
    "        new_Xtrain.append(np.hstack((Xtrain[i-4],Xtrain[i-3],Xtrain[i-2],Xtrain[i-1],Xtrain[i],zero_array,zero_array,zero_array,zero_array)))\n",
    "      new_Xtrain.append(np.hstack((Xtrain[i-4],Xtrain[i-3],Xtrain[i-2],Xtrain[i-1],Xtrain[i],Xtrain[i+1],Xtrain[i+2],Xtrain[i+3],Xtrain[i+4])))\n",
    "      if(i%10000 == 0):\n",
    "        print(i)"
   ]
  },
  {
   "cell_type": "code",
   "execution_count": 7,
   "metadata": {},
   "outputs": [
    {
     "name": "stdout",
     "output_type": "stream",
     "text": [
      "index = 0 updated_labels = 1\n",
      "index = 100000 updated_labels = 100001\n",
      "index = 200000 updated_labels = 200001\n",
      "index = 300000 updated_labels = 300001\n",
      "index = 400000 updated_labels = 400001\n",
      "index = 500000 updated_labels = 500001\n",
      "index = 600000 updated_labels = 600001\n",
      "index = 700000 updated_labels = 700001\n",
      "index = 800000 updated_labels = 800001\n",
      "index = 900000 updated_labels = 900001\n",
      "index = 1000000 updated_labels = 1000001\n",
      "index = 1100000 updated_labels = 1100001\n"
     ]
    }
   ],
   "source": [
    "new_labels = []\n",
    "index = 0\n",
    "updated_labels = 0\n",
    "for label in timit_labels:\n",
    "    for j in range(0,len(mapped_labels)):\n",
    "        if(label in mapped_labels[j]):\n",
    "            new_labels.append(j) \n",
    "            updated_labels+=1\n",
    "    if(index%100000 == 0):\n",
    "        print(\"index = {0} updated_labels = {1}\".format(index,updated_labels))\n",
    "    index+=1"
   ]
  },
  {
   "cell_type": "code",
   "execution_count": 8,
   "metadata": {
    "collapsed": true
   },
   "outputs": [],
   "source": [
    "# new_features = append_features(timit_data[\"feature_vector\"].tolist())\n",
    "new_features = timit_data[\"feature_vector\"].tolist()"
   ]
  },
  {
   "cell_type": "code",
   "execution_count": 9,
   "metadata": {},
   "outputs": [
    {
     "data": {
      "text/plain": [
       "1124823"
      ]
     },
     "execution_count": 9,
     "metadata": {},
     "output_type": "execute_result"
    }
   ],
   "source": [
    "len(new_labels)"
   ]
  },
  {
   "cell_type": "code",
   "execution_count": 10,
   "metadata": {
    "collapsed": true
   },
   "outputs": [],
   "source": [
    "timit_data[\"mapped_labels\"] = new_labels"
   ]
  },
  {
   "cell_type": "code",
   "execution_count": 11,
   "metadata": {
    "collapsed": true
   },
   "outputs": [],
   "source": [
    "timit_data.to_pickle(\"new_features_mapped.pkl\")"
   ]
  },
  {
   "cell_type": "code",
   "execution_count": 12,
   "metadata": {
    "collapsed": true
   },
   "outputs": [],
   "source": [
    "df = pd.DataFrame()\n",
    "df[\"features\"] = timit_data[\"feature_vector\"]\n",
    "df[\"labels\"] = timit_data[\"label\"]\n",
    "df[\"mapped_labels\"] = new_labels\n",
    "df.to_pickle(\"new_features_mapped_less.pkl\")"
   ]
  }
 ],
 "metadata": {
  "kernelspec": {
   "display_name": "Python 3",
   "language": "python",
   "name": "python3"
  },
  "language_info": {
   "codemirror_mode": {
    "name": "ipython",
    "version": 3
   },
   "file_extension": ".py",
   "mimetype": "text/x-python",
   "name": "python",
   "nbconvert_exporter": "python",
   "pygments_lexer": "ipython3",
   "version": "3.6.3"
  }
 },
 "nbformat": 4,
 "nbformat_minor": 2
}
